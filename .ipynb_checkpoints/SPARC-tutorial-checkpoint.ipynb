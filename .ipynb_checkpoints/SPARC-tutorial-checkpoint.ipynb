{
 "cells": [
  {
   "cell_type": "markdown",
   "id": "71fbbad7-cc5c-4fd5-bcc7-e5493398afcd",
   "metadata": {
    "tags": []
   },
   "source": [
    "# **<center>SPARC FAIR Codeathon 2022</center>**\n",
    "<center>\n",
    "<a href=\"https://sparc.science\">\n",
    "<img src=\"https://sparc.science/_nuxt/img/logo-sparc-wave-primary.8ed83a5.svg\" alt=\"SPARC\" width=\"150\"/>\n",
    "</a>\n",
    "</center>\n",
    "<center>\n",
    "<a href=\"https://sparc.science/help/2022-sparc-fair-codeathon\">\n",
    "<img src=\"https://images.ctfassets.net/6bya4tyw8399/2qgsOmFnm7wYIfRrPrqbgx/ae3255858aa12bfcebb52e95c7cacffe/codeathon-graphic.png\" alt=\"FAIR\" width=\"75\">\n",
    "</a>\n",
    "</center>\n",
    "\n",
    "## <center>Mapping 2D **SPARC** data points to a 3D scaffold: a tutorial</center>\n"
   ]
  },
  {
   "cell_type": "markdown",
   "id": "fdde64e8-4021-4a6b-bae7-b90b40239999",
   "metadata": {
    "tags": []
   },
   "source": [
    "## **Introduction**\n",
    "Welcome to the Quilted tutorial! We will be demonstrating different features from the [**SPARC**](https://sparc.science/) project. The goal will be to project the 2D locations of neurites in the rat stomach onto a 3D scaffhold of the organ. The data points and the 3D scaffhold will be pulled from **SPARC** datasets. Because the data is [**FAIR**](https://www.nature.com/articles/sdata201618) we will be combining three different datasets of the spatial distribution of the vagal afferents and efferents. \n"
   ]
  },
  {
   "cell_type": "markdown",
   "id": "ed86df40-1ae5-4ad9-9b88-cd87333aff43",
   "metadata": {},
   "source": [
    "## **Installing the dependencies**\n",
    "This tutorial relies on several Python packages that have been developed as part of the **SPARC** project. We will be installing them in order to complete this tutorial."
   ]
  },
  {
   "cell_type": "code",
   "execution_count": 2,
   "id": "1fcb5a50-148a-42d4-a984-d96c866dacc8",
   "metadata": {},
   "outputs": [
    {
     "name": "stdout",
     "output_type": "stream",
     "text": [
      "Defaulting to user installation because normal site-packages is not writeable\n",
      "Requirement already satisfied: pandas in /home/mroe734/.local/lib/python3.10/site-packages (1.4.3)\n",
      "Requirement already satisfied: numpy>=1.21.0 in /home/mroe734/.local/lib/python3.10/site-packages (from pandas) (1.23.0)\n",
      "Requirement already satisfied: python-dateutil>=2.8.1 in /home/mroe734/.local/lib/python3.10/site-packages (from pandas) (2.8.2)\n",
      "Requirement already satisfied: pytz>=2020.1 in /usr/lib/python3/dist-packages (from pandas) (2022.1)\n",
      "Requirement already satisfied: six>=1.5 in /usr/lib/python3/dist-packages (from python-dateutil>=2.8.1->pandas) (1.16.0)\n",
      "Defaulting to user installation because normal site-packages is not writeable\n",
      "Requirement already satisfied: openpyxl in /home/mroe734/.local/lib/python3.10/site-packages (3.0.10)\n",
      "Requirement already satisfied: et-xmlfile in /home/mroe734/.local/lib/python3.10/site-packages (from openpyxl) (1.1.0)\n",
      "Defaulting to user installation because normal site-packages is not writeable\n",
      "Requirement already satisfied: ipywidgets in /home/mroe734/.local/lib/python3.10/site-packages (7.7.1)\n",
      "Requirement already satisfied: ipykernel>=4.5.1 in /home/mroe734/.local/lib/python3.10/site-packages (from ipywidgets) (6.15.1)\n",
      "Requirement already satisfied: ipython-genutils~=0.2.0 in /home/mroe734/.local/lib/python3.10/site-packages (from ipywidgets) (0.2.0)\n",
      "Requirement already satisfied: jupyterlab-widgets>=1.0.0 in /home/mroe734/.local/lib/python3.10/site-packages (from ipywidgets) (1.1.1)\n",
      "Requirement already satisfied: ipython>=4.0.0 in /home/mroe734/.local/lib/python3.10/site-packages (from ipywidgets) (8.4.0)\n",
      "Requirement already satisfied: widgetsnbextension~=3.6.0 in /home/mroe734/.local/lib/python3.10/site-packages (from ipywidgets) (3.6.1)\n",
      "Requirement already satisfied: traitlets>=4.3.1 in /home/mroe734/.local/lib/python3.10/site-packages (from ipywidgets) (5.3.0)\n",
      "Requirement already satisfied: packaging in /home/mroe734/.local/lib/python3.10/site-packages (from ipykernel>=4.5.1->ipywidgets) (21.3)\n",
      "Requirement already satisfied: nest-asyncio in /home/mroe734/.local/lib/python3.10/site-packages (from ipykernel>=4.5.1->ipywidgets) (1.5.5)\n",
      "Requirement already satisfied: tornado>=6.1 in /home/mroe734/.local/lib/python3.10/site-packages (from ipykernel>=4.5.1->ipywidgets) (6.2)\n",
      "Requirement already satisfied: psutil in /home/mroe734/.local/lib/python3.10/site-packages (from ipykernel>=4.5.1->ipywidgets) (5.9.1)\n",
      "Requirement already satisfied: jupyter-client>=6.1.12 in /home/mroe734/.local/lib/python3.10/site-packages (from ipykernel>=4.5.1->ipywidgets) (7.3.4)\n",
      "Requirement already satisfied: pyzmq>=17 in /home/mroe734/.local/lib/python3.10/site-packages (from ipykernel>=4.5.1->ipywidgets) (23.2.0)\n",
      "Requirement already satisfied: matplotlib-inline>=0.1 in /home/mroe734/.local/lib/python3.10/site-packages (from ipykernel>=4.5.1->ipywidgets) (0.1.3)\n",
      "Requirement already satisfied: debugpy>=1.0 in /home/mroe734/.local/lib/python3.10/site-packages (from ipykernel>=4.5.1->ipywidgets) (1.6.2)\n",
      "Requirement already satisfied: pexpect>4.3 in /usr/lib/python3/dist-packages (from ipython>=4.0.0->ipywidgets) (4.8.0)\n",
      "Requirement already satisfied: backcall in /home/mroe734/.local/lib/python3.10/site-packages (from ipython>=4.0.0->ipywidgets) (0.2.0)\n",
      "Requirement already satisfied: decorator in /home/mroe734/.local/lib/python3.10/site-packages (from ipython>=4.0.0->ipywidgets) (5.1.1)\n",
      "Requirement already satisfied: pickleshare in /home/mroe734/.local/lib/python3.10/site-packages (from ipython>=4.0.0->ipywidgets) (0.7.5)\n",
      "Requirement already satisfied: jedi>=0.16 in /home/mroe734/.local/lib/python3.10/site-packages (from ipython>=4.0.0->ipywidgets) (0.18.1)\n",
      "Requirement already satisfied: pygments>=2.4.0 in /home/mroe734/.local/lib/python3.10/site-packages (from ipython>=4.0.0->ipywidgets) (2.12.0)\n",
      "Requirement already satisfied: stack-data in /home/mroe734/.local/lib/python3.10/site-packages (from ipython>=4.0.0->ipywidgets) (0.3.0)\n",
      "Requirement already satisfied: prompt-toolkit!=3.0.0,!=3.0.1,<3.1.0,>=2.0.0 in /home/mroe734/.local/lib/python3.10/site-packages (from ipython>=4.0.0->ipywidgets) (3.0.30)\n",
      "Requirement already satisfied: setuptools>=18.5 in /usr/lib/python3/dist-packages (from ipython>=4.0.0->ipywidgets) (59.6.0)\n",
      "Requirement already satisfied: notebook>=4.4.1 in /home/mroe734/.local/lib/python3.10/site-packages (from widgetsnbextension~=3.6.0->ipywidgets) (6.4.12)\n",
      "Requirement already satisfied: parso<0.9.0,>=0.8.0 in /home/mroe734/.local/lib/python3.10/site-packages (from jedi>=0.16->ipython>=4.0.0->ipywidgets) (0.8.3)\n",
      "Requirement already satisfied: python-dateutil>=2.8.2 in /home/mroe734/.local/lib/python3.10/site-packages (from jupyter-client>=6.1.12->ipykernel>=4.5.1->ipywidgets) (2.8.2)\n",
      "Requirement already satisfied: jupyter-core>=4.9.2 in /home/mroe734/.local/lib/python3.10/site-packages (from jupyter-client>=6.1.12->ipykernel>=4.5.1->ipywidgets) (4.11.1)\n",
      "Requirement already satisfied: entrypoints in /home/mroe734/.local/lib/python3.10/site-packages (from jupyter-client>=6.1.12->ipykernel>=4.5.1->ipywidgets) (0.4)\n",
      "Requirement already satisfied: nbconvert>=5 in /home/mroe734/.local/lib/python3.10/site-packages (from notebook>=4.4.1->widgetsnbextension~=3.6.0->ipywidgets) (6.5.0)\n",
      "Requirement already satisfied: Send2Trash>=1.8.0 in /home/mroe734/.local/lib/python3.10/site-packages (from notebook>=4.4.1->widgetsnbextension~=3.6.0->ipywidgets) (1.8.0)\n",
      "Requirement already satisfied: prometheus-client in /home/mroe734/.local/lib/python3.10/site-packages (from notebook>=4.4.1->widgetsnbextension~=3.6.0->ipywidgets) (0.14.1)\n",
      "Requirement already satisfied: argon2-cffi in /home/mroe734/.local/lib/python3.10/site-packages (from notebook>=4.4.1->widgetsnbextension~=3.6.0->ipywidgets) (21.3.0)\n",
      "Requirement already satisfied: terminado>=0.8.3 in /home/mroe734/.local/lib/python3.10/site-packages (from notebook>=4.4.1->widgetsnbextension~=3.6.0->ipywidgets) (0.15.0)\n",
      "Requirement already satisfied: nbformat in /home/mroe734/.local/lib/python3.10/site-packages (from notebook>=4.4.1->widgetsnbextension~=3.6.0->ipywidgets) (5.4.0)\n",
      "Requirement already satisfied: jinja2 in /usr/lib/python3/dist-packages (from notebook>=4.4.1->widgetsnbextension~=3.6.0->ipywidgets) (3.0.3)\n",
      "Requirement already satisfied: wcwidth in /home/mroe734/.local/lib/python3.10/site-packages (from prompt-toolkit!=3.0.0,!=3.0.1,<3.1.0,>=2.0.0->ipython>=4.0.0->ipywidgets) (0.2.5)\n",
      "Requirement already satisfied: pyparsing!=3.0.5,>=2.0.2 in /usr/lib/python3/dist-packages (from packaging->ipykernel>=4.5.1->ipywidgets) (2.4.7)\n",
      "Requirement already satisfied: executing in /home/mroe734/.local/lib/python3.10/site-packages (from stack-data->ipython>=4.0.0->ipywidgets) (0.9.1)\n",
      "Requirement already satisfied: asttokens in /home/mroe734/.local/lib/python3.10/site-packages (from stack-data->ipython>=4.0.0->ipywidgets) (2.0.5)\n",
      "Requirement already satisfied: pure-eval in /home/mroe734/.local/lib/python3.10/site-packages (from stack-data->ipython>=4.0.0->ipywidgets) (0.2.2)\n",
      "Requirement already satisfied: MarkupSafe>=2.0 in /usr/lib/python3/dist-packages (from nbconvert>=5->notebook>=4.4.1->widgetsnbextension~=3.6.0->ipywidgets) (2.0.1)\n",
      "Requirement already satisfied: mistune<2,>=0.8.1 in /home/mroe734/.local/lib/python3.10/site-packages (from nbconvert>=5->notebook>=4.4.1->widgetsnbextension~=3.6.0->ipywidgets) (0.8.4)\n",
      "Requirement already satisfied: nbclient>=0.5.0 in /home/mroe734/.local/lib/python3.10/site-packages (from nbconvert>=5->notebook>=4.4.1->widgetsnbextension~=3.6.0->ipywidgets) (0.6.6)\n",
      "Requirement already satisfied: tinycss2 in /home/mroe734/.local/lib/python3.10/site-packages (from nbconvert>=5->notebook>=4.4.1->widgetsnbextension~=3.6.0->ipywidgets) (1.1.1)\n",
      "Requirement already satisfied: defusedxml in /home/mroe734/.local/lib/python3.10/site-packages (from nbconvert>=5->notebook>=4.4.1->widgetsnbextension~=3.6.0->ipywidgets) (0.7.1)\n",
      "Requirement already satisfied: bleach in /home/mroe734/.local/lib/python3.10/site-packages (from nbconvert>=5->notebook>=4.4.1->widgetsnbextension~=3.6.0->ipywidgets) (5.0.1)\n",
      "Requirement already satisfied: pandocfilters>=1.4.1 in /home/mroe734/.local/lib/python3.10/site-packages (from nbconvert>=5->notebook>=4.4.1->widgetsnbextension~=3.6.0->ipywidgets) (1.5.0)\n",
      "Requirement already satisfied: jupyterlab-pygments in /home/mroe734/.local/lib/python3.10/site-packages (from nbconvert>=5->notebook>=4.4.1->widgetsnbextension~=3.6.0->ipywidgets) (0.2.2)\n",
      "Requirement already satisfied: beautifulsoup4 in /home/mroe734/.local/lib/python3.10/site-packages (from nbconvert>=5->notebook>=4.4.1->widgetsnbextension~=3.6.0->ipywidgets) (4.11.1)\n",
      "Requirement already satisfied: fastjsonschema in /home/mroe734/.local/lib/python3.10/site-packages (from nbformat->notebook>=4.4.1->widgetsnbextension~=3.6.0->ipywidgets) (2.16.1)\n",
      "Requirement already satisfied: jsonschema>=2.6 in /usr/lib/python3/dist-packages (from nbformat->notebook>=4.4.1->widgetsnbextension~=3.6.0->ipywidgets) (3.2.0)\n",
      "Requirement already satisfied: six>=1.5 in /usr/lib/python3/dist-packages (from python-dateutil>=2.8.2->jupyter-client>=6.1.12->ipykernel>=4.5.1->ipywidgets) (1.16.0)\n",
      "Requirement already satisfied: ptyprocess in /usr/lib/python3/dist-packages (from terminado>=0.8.3->notebook>=4.4.1->widgetsnbextension~=3.6.0->ipywidgets) (0.7.0)\n",
      "Requirement already satisfied: argon2-cffi-bindings in /home/mroe734/.local/lib/python3.10/site-packages (from argon2-cffi->notebook>=4.4.1->widgetsnbextension~=3.6.0->ipywidgets) (21.2.0)\n",
      "Requirement already satisfied: cffi>=1.0.1 in /usr/lib/python3/dist-packages (from argon2-cffi-bindings->argon2-cffi->notebook>=4.4.1->widgetsnbextension~=3.6.0->ipywidgets) (1.15.0)\n",
      "Requirement already satisfied: soupsieve>1.2 in /home/mroe734/.local/lib/python3.10/site-packages (from beautifulsoup4->nbconvert>=5->notebook>=4.4.1->widgetsnbextension~=3.6.0->ipywidgets) (2.3.2.post1)\n",
      "Requirement already satisfied: webencodings in /home/mroe734/.local/lib/python3.10/site-packages (from bleach->nbconvert>=5->notebook>=4.4.1->widgetsnbextension~=3.6.0->ipywidgets) (0.5.1)\n",
      "Defaulting to user installation because normal site-packages is not writeable\n",
      "Requirement already satisfied: numpy in /home/mroe734/.local/lib/python3.10/site-packages (1.23.0)\n",
      "Defaulting to user installation because normal site-packages is not writeable\n",
      "Collecting numpy-stl\n",
      "  Downloading numpy_stl-2.17.1-py3-none-any.whl (18 kB)\n",
      "Requirement already satisfied: numpy in /home/mroe734/.local/lib/python3.10/site-packages (from numpy-stl) (1.23.0)\n",
      "Collecting python-utils>=1.6.2\n",
      "  Downloading python_utils-3.3.3-py2.py3-none-any.whl (23 kB)\n",
      "Installing collected packages: python-utils, numpy-stl\n",
      "Successfully installed numpy-stl-2.17.1 python-utils-3.3.3\n",
      "Defaulting to user installation because normal site-packages is not writeable\n",
      "Requirement already satisfied: matplotlib in /home/mroe734/.local/lib/python3.10/site-packages (3.5.2)\n",
      "Requirement already satisfied: fonttools>=4.22.0 in /home/mroe734/.local/lib/python3.10/site-packages (from matplotlib) (4.33.3)\n",
      "Requirement already satisfied: pillow>=6.2.0 in /usr/lib/python3/dist-packages (from matplotlib) (9.0.1)\n",
      "Requirement already satisfied: python-dateutil>=2.7 in /home/mroe734/.local/lib/python3.10/site-packages (from matplotlib) (2.8.2)\n",
      "Requirement already satisfied: kiwisolver>=1.0.1 in /home/mroe734/.local/lib/python3.10/site-packages (from matplotlib) (1.4.3)\n",
      "Requirement already satisfied: numpy>=1.17 in /home/mroe734/.local/lib/python3.10/site-packages (from matplotlib) (1.23.0)\n",
      "Requirement already satisfied: packaging>=20.0 in /home/mroe734/.local/lib/python3.10/site-packages (from matplotlib) (21.3)\n",
      "Requirement already satisfied: cycler>=0.10 in /home/mroe734/.local/lib/python3.10/site-packages (from matplotlib) (0.11.0)\n",
      "Requirement already satisfied: pyparsing>=2.2.1 in /usr/lib/python3/dist-packages (from matplotlib) (2.4.7)\n",
      "Requirement already satisfied: six>=1.5 in /usr/lib/python3/dist-packages (from python-dateutil>=2.7->matplotlib) (1.16.0)\n",
      "Defaulting to user installation because normal site-packages is not writeable\n",
      "Collecting ipympl\n",
      "  Downloading ipympl-0.9.1-py2.py3-none-any.whl (508 kB)\n",
      "\u001b[2K     \u001b[38;2;114;156;31m━━━━━━━━━━━━━━━━━━━━━━━━━━━━━━━━━━━━━━━\u001b[0m \u001b[32m508.1/508.1 KB\u001b[0m \u001b[31m6.8 MB/s\u001b[0m eta \u001b[36m0:00:00\u001b[0mm eta \u001b[36m0:00:01\u001b[0m0:01\u001b[0m\n",
      "\u001b[?25hRequirement already satisfied: ipywidgets<8,>=7.6.0 in /home/mroe734/.local/lib/python3.10/site-packages (from ipympl) (7.7.1)\n",
      "Requirement already satisfied: ipython-genutils in /home/mroe734/.local/lib/python3.10/site-packages (from ipympl) (0.2.0)\n",
      "Requirement already satisfied: ipython<9 in /home/mroe734/.local/lib/python3.10/site-packages (from ipympl) (8.4.0)\n",
      "Requirement already satisfied: matplotlib<4,>=3.4.0 in /home/mroe734/.local/lib/python3.10/site-packages (from ipympl) (3.5.2)\n",
      "Requirement already satisfied: numpy in /home/mroe734/.local/lib/python3.10/site-packages (from ipympl) (1.23.0)\n",
      "Requirement already satisfied: traitlets<6 in /home/mroe734/.local/lib/python3.10/site-packages (from ipympl) (5.3.0)\n",
      "Requirement already satisfied: pillow in /usr/lib/python3/dist-packages (from ipympl) (9.0.1)\n",
      "Requirement already satisfied: stack-data in /home/mroe734/.local/lib/python3.10/site-packages (from ipython<9->ipympl) (0.3.0)\n",
      "Requirement already satisfied: decorator in /home/mroe734/.local/lib/python3.10/site-packages (from ipython<9->ipympl) (5.1.1)\n",
      "Requirement already satisfied: pickleshare in /home/mroe734/.local/lib/python3.10/site-packages (from ipython<9->ipympl) (0.7.5)\n",
      "Requirement already satisfied: pygments>=2.4.0 in /home/mroe734/.local/lib/python3.10/site-packages (from ipython<9->ipympl) (2.12.0)\n",
      "Requirement already satisfied: prompt-toolkit!=3.0.0,!=3.0.1,<3.1.0,>=2.0.0 in /home/mroe734/.local/lib/python3.10/site-packages (from ipython<9->ipympl) (3.0.30)\n",
      "Requirement already satisfied: pexpect>4.3 in /usr/lib/python3/dist-packages (from ipython<9->ipympl) (4.8.0)\n",
      "Requirement already satisfied: matplotlib-inline in /home/mroe734/.local/lib/python3.10/site-packages (from ipython<9->ipympl) (0.1.3)\n",
      "Requirement already satisfied: jedi>=0.16 in /home/mroe734/.local/lib/python3.10/site-packages (from ipython<9->ipympl) (0.18.1)\n",
      "Requirement already satisfied: backcall in /home/mroe734/.local/lib/python3.10/site-packages (from ipython<9->ipympl) (0.2.0)\n",
      "Requirement already satisfied: setuptools>=18.5 in /usr/lib/python3/dist-packages (from ipython<9->ipympl) (59.6.0)\n",
      "Requirement already satisfied: ipykernel>=4.5.1 in /home/mroe734/.local/lib/python3.10/site-packages (from ipywidgets<8,>=7.6.0->ipympl) (6.15.1)\n",
      "Requirement already satisfied: jupyterlab-widgets>=1.0.0 in /home/mroe734/.local/lib/python3.10/site-packages (from ipywidgets<8,>=7.6.0->ipympl) (1.1.1)\n",
      "Requirement already satisfied: widgetsnbextension~=3.6.0 in /home/mroe734/.local/lib/python3.10/site-packages (from ipywidgets<8,>=7.6.0->ipympl) (3.6.1)\n",
      "Requirement already satisfied: kiwisolver>=1.0.1 in /home/mroe734/.local/lib/python3.10/site-packages (from matplotlib<4,>=3.4.0->ipympl) (1.4.3)\n",
      "Requirement already satisfied: cycler>=0.10 in /home/mroe734/.local/lib/python3.10/site-packages (from matplotlib<4,>=3.4.0->ipympl) (0.11.0)\n",
      "Requirement already satisfied: fonttools>=4.22.0 in /home/mroe734/.local/lib/python3.10/site-packages (from matplotlib<4,>=3.4.0->ipympl) (4.33.3)\n",
      "Requirement already satisfied: python-dateutil>=2.7 in /home/mroe734/.local/lib/python3.10/site-packages (from matplotlib<4,>=3.4.0->ipympl) (2.8.2)\n",
      "Requirement already satisfied: pyparsing>=2.2.1 in /usr/lib/python3/dist-packages (from matplotlib<4,>=3.4.0->ipympl) (2.4.7)\n",
      "Requirement already satisfied: packaging>=20.0 in /home/mroe734/.local/lib/python3.10/site-packages (from matplotlib<4,>=3.4.0->ipympl) (21.3)\n",
      "Requirement already satisfied: debugpy>=1.0 in /home/mroe734/.local/lib/python3.10/site-packages (from ipykernel>=4.5.1->ipywidgets<8,>=7.6.0->ipympl) (1.6.2)\n",
      "Requirement already satisfied: psutil in /home/mroe734/.local/lib/python3.10/site-packages (from ipykernel>=4.5.1->ipywidgets<8,>=7.6.0->ipympl) (5.9.1)\n",
      "Requirement already satisfied: nest-asyncio in /home/mroe734/.local/lib/python3.10/site-packages (from ipykernel>=4.5.1->ipywidgets<8,>=7.6.0->ipympl) (1.5.5)\n",
      "Requirement already satisfied: jupyter-client>=6.1.12 in /home/mroe734/.local/lib/python3.10/site-packages (from ipykernel>=4.5.1->ipywidgets<8,>=7.6.0->ipympl) (7.3.4)\n",
      "Requirement already satisfied: pyzmq>=17 in /home/mroe734/.local/lib/python3.10/site-packages (from ipykernel>=4.5.1->ipywidgets<8,>=7.6.0->ipympl) (23.2.0)\n",
      "Requirement already satisfied: tornado>=6.1 in /home/mroe734/.local/lib/python3.10/site-packages (from ipykernel>=4.5.1->ipywidgets<8,>=7.6.0->ipympl) (6.2)\n",
      "Requirement already satisfied: parso<0.9.0,>=0.8.0 in /home/mroe734/.local/lib/python3.10/site-packages (from jedi>=0.16->ipython<9->ipympl) (0.8.3)\n",
      "Requirement already satisfied: wcwidth in /home/mroe734/.local/lib/python3.10/site-packages (from prompt-toolkit!=3.0.0,!=3.0.1,<3.1.0,>=2.0.0->ipython<9->ipympl) (0.2.5)\n",
      "Requirement already satisfied: six>=1.5 in /usr/lib/python3/dist-packages (from python-dateutil>=2.7->matplotlib<4,>=3.4.0->ipympl) (1.16.0)\n",
      "Requirement already satisfied: notebook>=4.4.1 in /home/mroe734/.local/lib/python3.10/site-packages (from widgetsnbextension~=3.6.0->ipywidgets<8,>=7.6.0->ipympl) (6.4.12)\n",
      "Requirement already satisfied: pure-eval in /home/mroe734/.local/lib/python3.10/site-packages (from stack-data->ipython<9->ipympl) (0.2.2)\n",
      "Requirement already satisfied: executing in /home/mroe734/.local/lib/python3.10/site-packages (from stack-data->ipython<9->ipympl) (0.9.1)\n",
      "Requirement already satisfied: asttokens in /home/mroe734/.local/lib/python3.10/site-packages (from stack-data->ipython<9->ipympl) (2.0.5)\n",
      "Requirement already satisfied: jupyter-core>=4.9.2 in /home/mroe734/.local/lib/python3.10/site-packages (from jupyter-client>=6.1.12->ipykernel>=4.5.1->ipywidgets<8,>=7.6.0->ipympl) (4.11.1)\n",
      "Requirement already satisfied: entrypoints in /home/mroe734/.local/lib/python3.10/site-packages (from jupyter-client>=6.1.12->ipykernel>=4.5.1->ipywidgets<8,>=7.6.0->ipympl) (0.4)\n",
      "Requirement already satisfied: terminado>=0.8.3 in /home/mroe734/.local/lib/python3.10/site-packages (from notebook>=4.4.1->widgetsnbextension~=3.6.0->ipywidgets<8,>=7.6.0->ipympl) (0.15.0)\n",
      "Requirement already satisfied: nbconvert>=5 in /home/mroe734/.local/lib/python3.10/site-packages (from notebook>=4.4.1->widgetsnbextension~=3.6.0->ipywidgets<8,>=7.6.0->ipympl) (6.5.0)\n",
      "Requirement already satisfied: prometheus-client in /home/mroe734/.local/lib/python3.10/site-packages (from notebook>=4.4.1->widgetsnbextension~=3.6.0->ipywidgets<8,>=7.6.0->ipympl) (0.14.1)\n",
      "Requirement already satisfied: argon2-cffi in /home/mroe734/.local/lib/python3.10/site-packages (from notebook>=4.4.1->widgetsnbextension~=3.6.0->ipywidgets<8,>=7.6.0->ipympl) (21.3.0)\n",
      "Requirement already satisfied: Send2Trash>=1.8.0 in /home/mroe734/.local/lib/python3.10/site-packages (from notebook>=4.4.1->widgetsnbextension~=3.6.0->ipywidgets<8,>=7.6.0->ipympl) (1.8.0)\n",
      "Requirement already satisfied: jinja2 in /usr/lib/python3/dist-packages (from notebook>=4.4.1->widgetsnbextension~=3.6.0->ipywidgets<8,>=7.6.0->ipympl) (3.0.3)\n",
      "Requirement already satisfied: nbformat in /home/mroe734/.local/lib/python3.10/site-packages (from notebook>=4.4.1->widgetsnbextension~=3.6.0->ipywidgets<8,>=7.6.0->ipympl) (5.4.0)\n",
      "Requirement already satisfied: bleach in /home/mroe734/.local/lib/python3.10/site-packages (from nbconvert>=5->notebook>=4.4.1->widgetsnbextension~=3.6.0->ipywidgets<8,>=7.6.0->ipympl) (5.0.1)\n",
      "Requirement already satisfied: jupyterlab-pygments in /home/mroe734/.local/lib/python3.10/site-packages (from nbconvert>=5->notebook>=4.4.1->widgetsnbextension~=3.6.0->ipywidgets<8,>=7.6.0->ipympl) (0.2.2)\n",
      "Requirement already satisfied: pandocfilters>=1.4.1 in /home/mroe734/.local/lib/python3.10/site-packages (from nbconvert>=5->notebook>=4.4.1->widgetsnbextension~=3.6.0->ipywidgets<8,>=7.6.0->ipympl) (1.5.0)\n",
      "Requirement already satisfied: tinycss2 in /home/mroe734/.local/lib/python3.10/site-packages (from nbconvert>=5->notebook>=4.4.1->widgetsnbextension~=3.6.0->ipywidgets<8,>=7.6.0->ipympl) (1.1.1)\n",
      "Requirement already satisfied: MarkupSafe>=2.0 in /usr/lib/python3/dist-packages (from nbconvert>=5->notebook>=4.4.1->widgetsnbextension~=3.6.0->ipywidgets<8,>=7.6.0->ipympl) (2.0.1)\n",
      "Requirement already satisfied: nbclient>=0.5.0 in /home/mroe734/.local/lib/python3.10/site-packages (from nbconvert>=5->notebook>=4.4.1->widgetsnbextension~=3.6.0->ipywidgets<8,>=7.6.0->ipympl) (0.6.6)\n",
      "Requirement already satisfied: mistune<2,>=0.8.1 in /home/mroe734/.local/lib/python3.10/site-packages (from nbconvert>=5->notebook>=4.4.1->widgetsnbextension~=3.6.0->ipywidgets<8,>=7.6.0->ipympl) (0.8.4)\n",
      "Requirement already satisfied: defusedxml in /home/mroe734/.local/lib/python3.10/site-packages (from nbconvert>=5->notebook>=4.4.1->widgetsnbextension~=3.6.0->ipywidgets<8,>=7.6.0->ipympl) (0.7.1)\n",
      "Requirement already satisfied: beautifulsoup4 in /home/mroe734/.local/lib/python3.10/site-packages (from nbconvert>=5->notebook>=4.4.1->widgetsnbextension~=3.6.0->ipywidgets<8,>=7.6.0->ipympl) (4.11.1)\n",
      "Requirement already satisfied: fastjsonschema in /home/mroe734/.local/lib/python3.10/site-packages (from nbformat->notebook>=4.4.1->widgetsnbextension~=3.6.0->ipywidgets<8,>=7.6.0->ipympl) (2.16.1)\n",
      "Requirement already satisfied: jsonschema>=2.6 in /usr/lib/python3/dist-packages (from nbformat->notebook>=4.4.1->widgetsnbextension~=3.6.0->ipywidgets<8,>=7.6.0->ipympl) (3.2.0)\n",
      "Requirement already satisfied: ptyprocess in /usr/lib/python3/dist-packages (from terminado>=0.8.3->notebook>=4.4.1->widgetsnbextension~=3.6.0->ipywidgets<8,>=7.6.0->ipympl) (0.7.0)\n",
      "Requirement already satisfied: argon2-cffi-bindings in /home/mroe734/.local/lib/python3.10/site-packages (from argon2-cffi->notebook>=4.4.1->widgetsnbextension~=3.6.0->ipywidgets<8,>=7.6.0->ipympl) (21.2.0)\n",
      "Requirement already satisfied: cffi>=1.0.1 in /usr/lib/python3/dist-packages (from argon2-cffi-bindings->argon2-cffi->notebook>=4.4.1->widgetsnbextension~=3.6.0->ipywidgets<8,>=7.6.0->ipympl) (1.15.0)\n",
      "Requirement already satisfied: soupsieve>1.2 in /home/mroe734/.local/lib/python3.10/site-packages (from beautifulsoup4->nbconvert>=5->notebook>=4.4.1->widgetsnbextension~=3.6.0->ipywidgets<8,>=7.6.0->ipympl) (2.3.2.post1)\n",
      "Requirement already satisfied: webencodings in /home/mroe734/.local/lib/python3.10/site-packages (from bleach->nbconvert>=5->notebook>=4.4.1->widgetsnbextension~=3.6.0->ipywidgets<8,>=7.6.0->ipympl) (0.5.1)\n",
      "Installing collected packages: ipympl\n",
      "Successfully installed ipympl-0.9.1\n"
     ]
    }
   ],
   "source": [
    "!pip install pandas # To load SPARC datasets in Python\n",
    "!pip install openpyxl # Pandas complement for Microsoft Excel files\n",
    "!pip install ipywidgets # To interact with plotted data\n",
    "# For data visualisation\n",
    "!pip install numpy\n",
    "!pip install numpy-stl\n",
    "!pip install matplotlib\n",
    "!pip install ipympl"
   ]
  },
  {
   "cell_type": "markdown",
   "id": "4c612c58-6029-4498-bc12-6afa6c8cfd2b",
   "metadata": {
    "tags": []
   },
   "source": [
    "## **Retrieving the data**\n",
    "Now that all the dependencies have been installed we will retrieve the data from directly from the [**SPARC**](https://sparc.science) project website. \n",
    "We will be using three datasets:\n",
    " * [vagal afferents associated with the myenteric plexus of the rat stomach](https://sparc.science/datasets/10?type=dataset&datasetDetailsTab=files)\n",
    " * [vagal afferents within the longitudinal and circular muscle layers of the rat stomach](https://sparc.science/datasets/11?type=dataset&datasetDetailsTab=files)\n",
    " * [vagal efferents associated with the myenteric plexus of the rat stomach](https://sparc.science/datasets/12?type=dataset&datasetDetailsTab=files)\n",
    " \n",
    "You can search through all of the **SPARC** datasets [here](https://sparc.science/data?type=dataset) or simply click on the links above to be redirected directly to the datasets. \n",
    "\n",
    "It is possible to downlowd the entire dataset by clicking on the purple ***Download full dataset*** button  in the **Download Dataset** tab or selecting specific files and folders in the **Dataset Files** tab lower in the page. If you haven't used the links above, you can click on the purple ***Get Dataset*** button on the left side of the screen or directly in the ***Files*** tab. \n",
    "\n",
    "For this tutorial, we are only interested in the contents of the _derative_ folder which contains two .xlsx files: one with the data (IGLE_data.xlsx, IMA_analyzed_data.xlsx, and Efferent_data.xlsx) and a manifest (manifest.xlsx). Enter the _derivative_ folder and select the xlsx file containing the data by ticking the box in front of it. Download the file by clicking the **Download Selected Files and Folders** button at the bottom. You will then be prompted to select the location in which to save it. For each dataset, save it in the _SPARC-tutorial_ folder. \n",
    "\n",
    "### **Pennsieve**\n",
    "[Pennsieve](https://app.pennsieve.io/) is the cloud-based solution for managing, analysing, and sharing scientific **SPARC** datasets."
   ]
  },
  {
   "cell_type": "markdown",
   "id": "9f332370-006a-4e4e-bf58-acda9f2d660b",
   "metadata": {},
   "source": [
    "### **Imports**\n",
    "Here we import all of the dependencies that we will need to run the code correctly."
   ]
  },
  {
   "cell_type": "code",
   "execution_count": 3,
   "id": "e2cccacb-ac11-4313-ab0d-48072a51fa5c",
   "metadata": {},
   "outputs": [],
   "source": [
    "import pandas as pd\n",
    "import matplotlib.pyplot as plt\n",
    "import numpy as np\n",
    "from stl import mesh as msh\n",
    "from mpl_toolkits import mplot3d"
   ]
  },
  {
   "cell_type": "markdown",
   "id": "2d4cc018-2386-48b6-8fc1-e831de2e56aa",
   "metadata": {},
   "source": [
    "Let us start with loading the data we have downloaded in Python.\n",
    "For this we are going to define some helper functions which relies on the pandas library.It will take as arguments the name of the .xlsx file we wish to load, the name of the columns we want to keep and the limits for the y and z direction. The output is a DataFrame called df with the desired columns."
   ]
  },
  {
   "cell_type": "code",
   "execution_count": 31,
   "id": "9e321aaf-0669-4acd-8b22-0aacaae34f84",
   "metadata": {},
   "outputs": [],
   "source": [
    "def get_position(percent, min_val, max_val):\n",
    "    \"\"\" Converts the position from percentage to distance\n",
    "    \n",
    "    Input:\n",
    "    percent -- float, percentage value.\n",
    "    min_val -- float, minimum distance for conversion.\n",
    "    max_val -- float, maximum distance for conversion.\n",
    "    \n",
    "    Return:\n",
    "    converted_value -- float, converted value.\n",
    "    \n",
    "    \"\"\"\n",
    "    return percent / 100 * (max_val - min_val) + min_val \n",
    "\n",
    "def load_data(data_name, col_keeps, y_lims, z_lims):\n",
    "    \"\"\" Loads the data from an .xlsx file\n",
    "    \n",
    "    Input:\n",
    "    data_name -- str, nane of the .xlsx file to read.\n",
    "    col_keeps -- dict{str:str}, dictionnary containing the names of the columns\n",
    "        to keep.\n",
    "    y_lims -- list[int], limits for the y direction to convert back to mm,\n",
    "            first element is the minimum and second is the maximum.\n",
    "    z_lims -- list[int], limits for the z direction to convert back to mm,\n",
    "        first element is the minimum and second is the maximum.\n",
    "    \n",
    "    Return:\n",
    "    df -- DataFrame, data frame containing the desired data.\n",
    "    \n",
    "    \"\"\"\n",
    "    df = pd.read_excel(data_name)\n",
    "    # remove unnecessary columns\n",
    "    for col in df.columns:\n",
    "        if col in col_keeps:\n",
    "            df.rename(columns = {col:col_keeps[col]}, inplace = True)\n",
    "        else:\n",
    "            df.drop(col, axis=1, inplace=True)\n",
    "    df['y'] = get_position(df['%y'], y_lims[0], y_lims[1])\n",
    "    df['z'] = get_position(df['%x'], z_lims[0], z_lims[1]) # x becomes z\n",
    "    df['-%y'] = 100 - df['%y']\n",
    "    # change the area to mm\n",
    "    return df"
   ]
  },
  {
   "cell_type": "markdown",
   "id": "b4172ad9-feb7-4b7d-89bf-fa3ddf1f932d",
   "metadata": {},
   "source": [
    "Now, let us setup some variables that we will need to prepare the data for mapping and plotting. In these datasets, the distances are in percentages and we need to define the references to convert them back in mm."
   ]
  },
  {
   "cell_type": "code",
   "execution_count": 32,
   "id": "868f7e0a-e0bb-484c-9916-1b629673a872",
   "metadata": {},
   "outputs": [],
   "source": [
    "## setup maximimum x and y width\n",
    "z_lims = [0, 36.7]\n",
    "y_lims = [4.6, 0]\n",
    "\n",
    "col_keeps = {'%x (distance from pylorus side)':'%x', '%y (distance from bottom)':'%y',\n",
    "             'Average IGLE Area (um²)':'area', 'Area Of Innervation':'area', \n",
    "             'Neuron Area Of Innervation (um²) -Convex Hull':'area'}"
   ]
  },
  {
   "cell_type": "markdown",
   "id": "a489af2e-2fb7-4139-9696-c16732c898cb",
   "metadata": {},
   "source": [
    "We can now load the locations of the nerves into DataFrame:"
   ]
  },
  {
   "cell_type": "code",
   "execution_count": 33,
   "id": "0b000479-2aaf-49c6-8e1a-8915ff7a7f6a",
   "metadata": {},
   "outputs": [],
   "source": [
    "df_igle = load_data('IGLE_data.xlsx', col_keeps, y_lims, z_lims)\n",
    "df_ima = load_data('IMA_analyzed_data.xlsx', col_keeps, y_lims, z_lims)\n",
    "df_efferent = load_data('Efferent_data.xlsx', col_keeps, y_lims, z_lims) "
   ]
  },
  {
   "cell_type": "code",
   "execution_count": 4,
   "id": "d8ffddfe-7fd6-4081-a401-e1bc7595369b",
   "metadata": {},
   "outputs": [],
   "source": [
    "def map_to_3d(inpPts, inpMesh):\n",
    "    ''' Maps an Nx2 numpy array of points in the yz plane to have an x coordinate based on the nearest point in the y-z plane on the input mesh\n",
    "    Inputs:\n",
    "        inpPts: Nx2 numpy array with y coordinates in column 0, and z coordinates in column 1\n",
    "        inpMesh: numpy-stl mexh object with the target mesh\n",
    "    Outputs:\n",
    "        out: Nx3 numpy array with x coordinates in column 0, y coordinates in column 1, and z coordinates in column 2\n",
    "    '''\n",
    "    # create a list of vertices from the vectors of each triangle in the mesh\n",
    "    vert = np.around(np.unique(inpMesh.vectors.reshape([int(inpMesh.vectors.size/3), 3]), axis=0),2)\n",
    "    \n",
    "    # select only vertices on the ventral stomach\n",
    "    vert_ventral = vert[vert[:, 0] < 9.0, :]\n",
    "    # initial output array\n",
    "    out = np.zeros((inpPts.shape[0], 3))\n",
    "    \n",
    "    # iterate over all points in y-z plane and find the closest mesh vertex in this plane\n",
    "    for i, pt in enumerate(inpPts):      \n",
    "        min_arg = np.argmin(np.sqrt(np.sum(np.power(np.abs((pt-vert_ventral[:, 1:3])),2), 1)))\n",
    "        matched_x = vert_ventral[min_arg, 0]\n",
    "        matched_x -= 2 - np.random.rand()*1 # this adds some random jitter so that triangles don't obscure points\n",
    "        out[i, :] = [matched_x, pt[0], pt[1]]\n",
    "    return out\n"
   ]
  },
  {
   "cell_type": "code",
   "execution_count": 5,
   "id": "6d2a7408-73b9-4254-8c38-d1c19b756316",
   "metadata": {},
   "outputs": [
    {
     "ename": "NameError",
     "evalue": "name 'df_efferent' is not defined",
     "output_type": "error",
     "traceback": [
      "\u001b[0;31m---------------------------------------------------------------------------\u001b[0m",
      "\u001b[0;31mNameError\u001b[0m                                 Traceback (most recent call last)",
      "Input \u001b[0;32mIn [5]\u001b[0m, in \u001b[0;36m<cell line: 4>\u001b[0;34m()\u001b[0m\n\u001b[1;32m      1\u001b[0m \u001b[38;5;66;03m#### Interactive dropdowns for selection of IGLEs, IMAs, efferent neurons (the three different dfs above)\u001b[39;00m\n\u001b[1;32m      2\u001b[0m \u001b[38;5;66;03m#### it should make data_array=numpy.array (instead of the test data below)\u001b[39;00m\n\u001b[1;32m      3\u001b[0m \u001b[38;5;66;03m### temporary\u001b[39;00m\n\u001b[0;32m----> 4\u001b[0m data_array \u001b[38;5;241m=\u001b[39m np\u001b[38;5;241m.\u001b[39marray(\u001b[43mdf_efferent\u001b[49m[[\u001b[38;5;124m'\u001b[39m\u001b[38;5;124my\u001b[39m\u001b[38;5;124m'\u001b[39m,\u001b[38;5;124m'\u001b[39m\u001b[38;5;124mz\u001b[39m\u001b[38;5;124m'\u001b[39m,\u001b[38;5;124m'\u001b[39m\u001b[38;5;124marea\u001b[39m\u001b[38;5;124m'\u001b[39m]])\n",
      "\u001b[0;31mNameError\u001b[0m: name 'df_efferent' is not defined"
     ]
    }
   ],
   "source": [
    "#### Interactive dropdowns for selection of IGLEs, IMAs, efferent neurons (the three different dfs above)\n",
    "#### it should make data_array=numpy.array (instead of the test data below)\n",
    "### temporary\n",
    "data_array = np.array(df_efferent[['y','z','area']])"
   ]
  },
  {
   "cell_type": "code",
   "execution_count": null,
   "id": "b4472c84-cbee-40a7-b2d5-939ae0d1f50a",
   "metadata": {},
   "outputs": [],
   "source": [
    "# Load the STL files and add the vectors to the plot\n",
    "your_mesh = msh.Mesh.from_file('res/stom_surf_mesh.stl')\n",
    "\n",
    "# with coordinate axes (imported with signs reversed)\n",
    "your_mesh.x -= np.min(your_mesh.x.flatten())\n",
    "your_mesh.y -= np.min(your_mesh.y.flatten())\n",
    "your_mesh.z -= np.min(your_mesh.z.flatten())\n",
    "\n",
    "# test data in 2D\n",
    "# data_array = np.array([[13.715644,17.253308],\n",
    "# [19.988560,9.302295],\n",
    "# [17.089456,5.248453],\n",
    "# [7.018884,8.558111],\n",
    "# [4.662302,21.698826],\n",
    "# [10.545279,13.689061]])\n",
    "\n",
    "# convert input data to numpy coordinate array and intensity array\n",
    "data_twoDim = np.array(data_array[:, (0,1)])\n",
    "data_intensity = data_array[:,2]\n",
    "\n",
    "# project to 3D stomach surface\n",
    "data_threeDim = map_to_3d(data_twoDim, your_mesh)\n"
   ]
  },
  {
   "cell_type": "code",
   "execution_count": null,
   "id": "387d707a-0a7d-4d44-8163-0ab5b936de48",
   "metadata": {},
   "outputs": [],
   "source": [
    "# this enables interactivity in jupyterlab and needs to be in the same cell as the plotting calls\n",
    "%matplotlib widget \n",
    "\n",
    "# start a matplotlib 3d interactive figure\n",
    "fig = plt.figure()\n",
    "ax = fig.add_subplot(projection='3d')\n",
    "\n",
    "# add mesh as triangle polygons to 3d matplotlib view\n",
    "faces = mplot3d.art3d.Poly3DCollection(your_mesh.vectors, color=(0, 0.4470, 0.7410))\n",
    "faces.set_edgecolor((0, 0.4470, 0.7410, 0.1))\n",
    "faces.set_alpha(0.1)\n",
    "ax.add_collection3d(faces)\n",
    "\n",
    "# plot the projected neurons coloured by their area of innervation\n",
    "ax.scatter(data_threeDim[:,0], data_threeDim[:,1], data_threeDim[:,2], c=data_intensity, cmap='Greens')\n",
    "\n",
    "# Scale view to the mesh size and turn off axis chrome\n",
    "ax.set_xlim(0,40)\n",
    "ax.set_ylim(-10,30)\n",
    "ax.set_zlim(-10,30)\n",
    "ax.axis('off')\n",
    "\n",
    "# show ventral surface and plot projected neurons\n",
    "ax.view_init(10, -57, 'y')\n",
    "plt.show()\n"
   ]
  },
  {
   "cell_type": "code",
   "execution_count": 36,
   "id": "4a5f764e-4eab-47f6-81e2-01f6b5e73e1c",
   "metadata": {},
   "outputs": [
    {
     "name": "stdout",
     "output_type": "stream",
     "text": [
      "An error occurred.\n",
      "ValueError: Please install Node.js and npm before continuing installation. You may be able to install Node.js from your package manager, from conda, or directly from the Node.js website (https://nodejs.org).\n",
      "See the log file for details:  /tmp/jupyterlab-debug-of2u4ew3.log\n"
     ]
    }
   ],
   "source": [
    "!jupyter labextension install @jupyter-widgets/jupyterlab-manager"
   ]
  }
 ],
 "metadata": {
  "kernelspec": {
   "display_name": "Python 3 (ipykernel)",
   "language": "python",
   "name": "python3"
  },
  "language_info": {
   "codemirror_mode": {
    "name": "ipython",
    "version": 3
   },
   "file_extension": ".py",
   "mimetype": "text/x-python",
   "name": "python",
   "nbconvert_exporter": "python",
   "pygments_lexer": "ipython3",
   "version": "3.10.4"
  }
 },
 "nbformat": 4,
 "nbformat_minor": 5
}
