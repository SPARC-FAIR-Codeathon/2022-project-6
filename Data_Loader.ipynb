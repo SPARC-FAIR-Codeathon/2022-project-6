{
 "cells": [
  {
   "cell_type": "markdown",
   "id": "fcbded48",
   "metadata": {},
   "source": [
    "## Data Preparation"
   ]
  },
  {
   "cell_type": "code",
   "execution_count": 1,
   "id": "eca405c6",
   "metadata": {},
   "outputs": [],
   "source": [
    "## dependencies\n",
    "\n",
    "## Install pandas and openpyxl \n",
    "# !pip install pandas\n",
    "# !pip install openpyxl"
   ]
  },
  {
   "cell_type": "code",
   "execution_count": 106,
   "id": "6c83b65a",
   "metadata": {},
   "outputs": [],
   "source": [
    "import pandas as pd\n",
    "\n",
    "col_keeps = {'%x (distance from pylorus side)':'%x', '%y (distance from bottom)':'%y',\n",
    "             'Average IGLE Area (um²)':'area', 'Area Of Innervation':'area', \n",
    "             'Neuron Area Of Innervation (um²) -Convex Hull':'area'}\n",
    "\n",
    "## setup maximimum x and y width\n",
    "min_z, max_z = 0, 36.7\n",
    "min_y, max_y = 24.6, 0\n",
    "\n",
    "def load_data(data_name):\n",
    "    df = pd.read_excel(data_name)\n",
    "    # remove unnecessary columns\n",
    "    for col in df.columns:\n",
    "        if col in col_keeps:\n",
    "            df.rename(columns = {col:col_keeps[col]}, inplace = True)\n",
    "        else:\n",
    "            df.drop(col, axis=1, inplace=True)\n",
    "    df['y'] = df['%y']/(max(df['%y'])-min(df['%y']))*(max_y-min_y) + min_y\n",
    "    df['z'] = df['%x']/(max(df['%x'])-min(df['%x']))*(max_z-min_z) + min_z\n",
    "    df['-%y'] = 100 - df['%y']\n",
    "    # change the area to mm\n",
    "    return df"
   ]
  },
  {
   "cell_type": "code",
   "execution_count": 107,
   "id": "f3719c8c",
   "metadata": {},
   "outputs": [],
   "source": [
    "df_igle = load_data('IGLE_data.xlsx')\n",
    "df_ima = load_data('IMA_analyzed_data.xlsx')\n",
    "df_efferent = load_data('Efferent_data.xlsx') "
   ]
  },
  {
   "cell_type": "code",
   "execution_count": 98,
   "id": "89d0c5d1",
   "metadata": {},
   "outputs": [
    {
     "data": {
      "text/html": [
       "<div>\n",
       "<style scoped>\n",
       "    .dataframe tbody tr th:only-of-type {\n",
       "        vertical-align: middle;\n",
       "    }\n",
       "\n",
       "    .dataframe tbody tr th {\n",
       "        vertical-align: top;\n",
       "    }\n",
       "\n",
       "    .dataframe thead th {\n",
       "        text-align: right;\n",
       "    }\n",
       "</style>\n",
       "<table border=\"1\" class=\"dataframe\">\n",
       "  <thead>\n",
       "    <tr style=\"text-align: right;\">\n",
       "      <th></th>\n",
       "      <th>%x</th>\n",
       "      <th>%y</th>\n",
       "      <th>area</th>\n",
       "      <th>y</th>\n",
       "      <th>z</th>\n",
       "    </tr>\n",
       "  </thead>\n",
       "  <tbody>\n",
       "    <tr>\n",
       "      <th>0</th>\n",
       "      <td>47.011740</td>\n",
       "      <td>44.245348</td>\n",
       "      <td>3601.328000</td>\n",
       "      <td>10.268603</td>\n",
       "      <td>21.063648</td>\n",
       "    </tr>\n",
       "    <tr>\n",
       "      <th>1</th>\n",
       "      <td>25.346852</td>\n",
       "      <td>18.745693</td>\n",
       "      <td>1117.563755</td>\n",
       "      <td>18.528131</td>\n",
       "      <td>11.356678</td>\n",
       "    </tr>\n",
       "    <tr>\n",
       "      <th>2</th>\n",
       "      <td>14.300961</td>\n",
       "      <td>30.530669</td>\n",
       "      <td>2687.019182</td>\n",
       "      <td>14.710889</td>\n",
       "      <td>6.407557</td>\n",
       "    </tr>\n",
       "    <tr>\n",
       "      <th>3</th>\n",
       "      <td>23.319104</td>\n",
       "      <td>71.467953</td>\n",
       "      <td>1003.785793</td>\n",
       "      <td>1.450998</td>\n",
       "      <td>10.448143</td>\n",
       "    </tr>\n",
       "    <tr>\n",
       "      <th>4</th>\n",
       "      <td>59.124867</td>\n",
       "      <td>81.047553</td>\n",
       "      <td>1610.401750</td>\n",
       "      <td>-1.651906</td>\n",
       "      <td>26.490945</td>\n",
       "    </tr>\n",
       "    <tr>\n",
       "      <th>...</th>\n",
       "      <td>...</td>\n",
       "      <td>...</td>\n",
       "      <td>...</td>\n",
       "      <td>...</td>\n",
       "      <td>...</td>\n",
       "    </tr>\n",
       "    <tr>\n",
       "      <th>119</th>\n",
       "      <td>28.441836</td>\n",
       "      <td>50.999311</td>\n",
       "      <td>1401.684735</td>\n",
       "      <td>8.080944</td>\n",
       "      <td>12.743388</td>\n",
       "    </tr>\n",
       "    <tr>\n",
       "      <th>120</th>\n",
       "      <td>37.406617</td>\n",
       "      <td>56.719504</td>\n",
       "      <td>1940.776625</td>\n",
       "      <td>6.228131</td>\n",
       "      <td>16.760065</td>\n",
       "    </tr>\n",
       "    <tr>\n",
       "      <th>121</th>\n",
       "      <td>4.909285</td>\n",
       "      <td>59.476223</td>\n",
       "      <td>1663.673167</td>\n",
       "      <td>5.335209</td>\n",
       "      <td>2.199609</td>\n",
       "    </tr>\n",
       "    <tr>\n",
       "      <th>122</th>\n",
       "      <td>30.522946</td>\n",
       "      <td>41.212957</td>\n",
       "      <td>774.539864</td>\n",
       "      <td>11.250817</td>\n",
       "      <td>13.675831</td>\n",
       "    </tr>\n",
       "    <tr>\n",
       "      <th>123</th>\n",
       "      <td>43.116329</td>\n",
       "      <td>34.252240</td>\n",
       "      <td>1004.171476</td>\n",
       "      <td>13.505445</td>\n",
       "      <td>19.318306</td>\n",
       "    </tr>\n",
       "  </tbody>\n",
       "</table>\n",
       "<p>124 rows × 5 columns</p>\n",
       "</div>"
      ],
      "text/plain": [
       "            %x         %y         area          y          z\n",
       "0    47.011740  44.245348  3601.328000  10.268603  21.063648\n",
       "1    25.346852  18.745693  1117.563755  18.528131  11.356678\n",
       "2    14.300961  30.530669  2687.019182  14.710889   6.407557\n",
       "3    23.319104  71.467953  1003.785793   1.450998  10.448143\n",
       "4    59.124867  81.047553  1610.401750  -1.651906  26.490945\n",
       "..         ...        ...          ...        ...        ...\n",
       "119  28.441836  50.999311  1401.684735   8.080944  12.743388\n",
       "120  37.406617  56.719504  1940.776625   6.228131  16.760065\n",
       "121   4.909285  59.476223  1663.673167   5.335209   2.199609\n",
       "122  30.522946  41.212957   774.539864  11.250817  13.675831\n",
       "123  43.116329  34.252240  1004.171476  13.505445  19.318306\n",
       "\n",
       "[124 rows x 5 columns]"
      ]
     },
     "execution_count": 98,
     "metadata": {},
     "output_type": "execute_result"
    }
   ],
   "source": [
    "df_igle"
   ]
  },
  {
   "cell_type": "code",
   "execution_count": 99,
   "id": "a38e7885",
   "metadata": {},
   "outputs": [
    {
     "data": {
      "text/html": [
       "<div>\n",
       "<style scoped>\n",
       "    .dataframe tbody tr th:only-of-type {\n",
       "        vertical-align: middle;\n",
       "    }\n",
       "\n",
       "    .dataframe tbody tr th {\n",
       "        vertical-align: top;\n",
       "    }\n",
       "\n",
       "    .dataframe thead th {\n",
       "        text-align: right;\n",
       "    }\n",
       "</style>\n",
       "<table border=\"1\" class=\"dataframe\">\n",
       "  <thead>\n",
       "    <tr style=\"text-align: right;\">\n",
       "      <th></th>\n",
       "      <th>%x</th>\n",
       "      <th>%y</th>\n",
       "      <th>area</th>\n",
       "      <th>y</th>\n",
       "      <th>z</th>\n",
       "    </tr>\n",
       "  </thead>\n",
       "  <tbody>\n",
       "    <tr>\n",
       "      <th>0</th>\n",
       "      <td>28.311966</td>\n",
       "      <td>76.515152</td>\n",
       "      <td>817167</td>\n",
       "      <td>3.197807</td>\n",
       "      <td>10.860413</td>\n",
       "    </tr>\n",
       "    <tr>\n",
       "      <th>1</th>\n",
       "      <td>55.876068</td>\n",
       "      <td>16.666667</td>\n",
       "      <td>4866190</td>\n",
       "      <td>19.938136</td>\n",
       "      <td>21.433948</td>\n",
       "    </tr>\n",
       "    <tr>\n",
       "      <th>2</th>\n",
       "      <td>67.841880</td>\n",
       "      <td>61.019284</td>\n",
       "      <td>1679230</td>\n",
       "      <td>7.532185</td>\n",
       "      <td>26.024009</td>\n",
       "    </tr>\n",
       "    <tr>\n",
       "      <th>3</th>\n",
       "      <td>65.331197</td>\n",
       "      <td>27.410468</td>\n",
       "      <td>12166100</td>\n",
       "      <td>16.932968</td>\n",
       "      <td>25.060916</td>\n",
       "    </tr>\n",
       "    <tr>\n",
       "      <th>4</th>\n",
       "      <td>66.666667</td>\n",
       "      <td>21.487603</td>\n",
       "      <td>5587230</td>\n",
       "      <td>18.589663</td>\n",
       "      <td>25.573199</td>\n",
       "    </tr>\n",
       "    <tr>\n",
       "      <th>...</th>\n",
       "      <td>...</td>\n",
       "      <td>...</td>\n",
       "      <td>...</td>\n",
       "      <td>...</td>\n",
       "      <td>...</td>\n",
       "    </tr>\n",
       "    <tr>\n",
       "      <th>179</th>\n",
       "      <td>12.339744</td>\n",
       "      <td>79.132231</td>\n",
       "      <td>318208</td>\n",
       "      <td>2.465779</td>\n",
       "      <td>4.733501</td>\n",
       "    </tr>\n",
       "    <tr>\n",
       "      <th>180</th>\n",
       "      <td>6.250000</td>\n",
       "      <td>81.955923</td>\n",
       "      <td>969304</td>\n",
       "      <td>1.675959</td>\n",
       "      <td>2.397487</td>\n",
       "    </tr>\n",
       "    <tr>\n",
       "      <th>181</th>\n",
       "      <td>7.852564</td>\n",
       "      <td>65.151515</td>\n",
       "      <td>1742690</td>\n",
       "      <td>6.376351</td>\n",
       "      <td>3.012228</td>\n",
       "    </tr>\n",
       "    <tr>\n",
       "      <th>182</th>\n",
       "      <td>10.416667</td>\n",
       "      <td>86.294766</td>\n",
       "      <td>1302170</td>\n",
       "      <td>0.462334</td>\n",
       "      <td>3.995812</td>\n",
       "    </tr>\n",
       "    <tr>\n",
       "      <th>183</th>\n",
       "      <td>6.356838</td>\n",
       "      <td>79.476584</td>\n",
       "      <td>1464090</td>\n",
       "      <td>2.369460</td>\n",
       "      <td>2.438470</td>\n",
       "    </tr>\n",
       "  </tbody>\n",
       "</table>\n",
       "<p>184 rows × 5 columns</p>\n",
       "</div>"
      ],
      "text/plain": [
       "            %x         %y      area          y          z\n",
       "0    28.311966  76.515152    817167   3.197807  10.860413\n",
       "1    55.876068  16.666667   4866190  19.938136  21.433948\n",
       "2    67.841880  61.019284   1679230   7.532185  26.024009\n",
       "3    65.331197  27.410468  12166100  16.932968  25.060916\n",
       "4    66.666667  21.487603   5587230  18.589663  25.573199\n",
       "..         ...        ...       ...        ...        ...\n",
       "179  12.339744  79.132231    318208   2.465779   4.733501\n",
       "180   6.250000  81.955923    969304   1.675959   2.397487\n",
       "181   7.852564  65.151515   1742690   6.376351   3.012228\n",
       "182  10.416667  86.294766   1302170   0.462334   3.995812\n",
       "183   6.356838  79.476584   1464090   2.369460   2.438470\n",
       "\n",
       "[184 rows x 5 columns]"
      ]
     },
     "execution_count": 99,
     "metadata": {},
     "output_type": "execute_result"
    }
   ],
   "source": [
    "df_ima"
   ]
  },
  {
   "cell_type": "code",
   "execution_count": 100,
   "id": "7c0b26e5",
   "metadata": {},
   "outputs": [
    {
     "data": {
      "text/html": [
       "<div>\n",
       "<style scoped>\n",
       "    .dataframe tbody tr th:only-of-type {\n",
       "        vertical-align: middle;\n",
       "    }\n",
       "\n",
       "    .dataframe tbody tr th {\n",
       "        vertical-align: top;\n",
       "    }\n",
       "\n",
       "    .dataframe thead th {\n",
       "        text-align: right;\n",
       "    }\n",
       "</style>\n",
       "<table border=\"1\" class=\"dataframe\">\n",
       "  <thead>\n",
       "    <tr style=\"text-align: right;\">\n",
       "      <th></th>\n",
       "      <th>%x</th>\n",
       "      <th>%y</th>\n",
       "      <th>area</th>\n",
       "      <th>y</th>\n",
       "      <th>z</th>\n",
       "    </tr>\n",
       "  </thead>\n",
       "  <tbody>\n",
       "    <tr>\n",
       "      <th>0</th>\n",
       "      <td>60.224239</td>\n",
       "      <td>36.319779</td>\n",
       "      <td>7741950</td>\n",
       "      <td>11.927273</td>\n",
       "      <td>26.085444</td>\n",
       "    </tr>\n",
       "    <tr>\n",
       "      <th>1</th>\n",
       "      <td>27.549386</td>\n",
       "      <td>27.498277</td>\n",
       "      <td>66214800</td>\n",
       "      <td>15.005279</td>\n",
       "      <td>11.932703</td>\n",
       "    </tr>\n",
       "    <tr>\n",
       "      <th>2</th>\n",
       "      <td>15.589963</td>\n",
       "      <td>64.093728</td>\n",
       "      <td>18164900</td>\n",
       "      <td>2.236364</td>\n",
       "      <td>6.752615</td>\n",
       "    </tr>\n",
       "    <tr>\n",
       "      <th>3</th>\n",
       "      <td>70.528564</td>\n",
       "      <td>86.560992</td>\n",
       "      <td>11690200</td>\n",
       "      <td>-5.602933</td>\n",
       "      <td>30.548645</td>\n",
       "    </tr>\n",
       "    <tr>\n",
       "      <th>4</th>\n",
       "      <td>78.964229</td>\n",
       "      <td>83.459683</td>\n",
       "      <td>5014350</td>\n",
       "      <td>-4.520821</td>\n",
       "      <td>34.202457</td>\n",
       "    </tr>\n",
       "    <tr>\n",
       "      <th>...</th>\n",
       "      <td>...</td>\n",
       "      <td>...</td>\n",
       "      <td>...</td>\n",
       "      <td>...</td>\n",
       "      <td>...</td>\n",
       "    </tr>\n",
       "    <tr>\n",
       "      <th>126</th>\n",
       "      <td>66.631073</td>\n",
       "      <td>46.864232</td>\n",
       "      <td>46065100</td>\n",
       "      <td>8.248094</td>\n",
       "      <td>28.860491</td>\n",
       "    </tr>\n",
       "    <tr>\n",
       "      <th>127</th>\n",
       "      <td>89.375334</td>\n",
       "      <td>37.491385</td>\n",
       "      <td>22406100</td>\n",
       "      <td>11.518475</td>\n",
       "      <td>38.711909</td>\n",
       "    </tr>\n",
       "    <tr>\n",
       "      <th>128</th>\n",
       "      <td>NaN</td>\n",
       "      <td>NaN</td>\n",
       "      <td>21864200</td>\n",
       "      <td>NaN</td>\n",
       "      <td>NaN</td>\n",
       "    </tr>\n",
       "    <tr>\n",
       "      <th>129</th>\n",
       "      <td>NaN</td>\n",
       "      <td>NaN</td>\n",
       "      <td>15575000</td>\n",
       "      <td>NaN</td>\n",
       "      <td>NaN</td>\n",
       "    </tr>\n",
       "    <tr>\n",
       "      <th>130</th>\n",
       "      <td>NaN</td>\n",
       "      <td>NaN</td>\n",
       "      <td>48484300</td>\n",
       "      <td>NaN</td>\n",
       "      <td>NaN</td>\n",
       "    </tr>\n",
       "  </tbody>\n",
       "</table>\n",
       "<p>131 rows × 5 columns</p>\n",
       "</div>"
      ],
      "text/plain": [
       "            %x         %y      area          y          z\n",
       "0    60.224239  36.319779   7741950  11.927273  26.085444\n",
       "1    27.549386  27.498277  66214800  15.005279  11.932703\n",
       "2    15.589963  64.093728  18164900   2.236364   6.752615\n",
       "3    70.528564  86.560992  11690200  -5.602933  30.548645\n",
       "4    78.964229  83.459683   5014350  -4.520821  34.202457\n",
       "..         ...        ...       ...        ...        ...\n",
       "126  66.631073  46.864232  46065100   8.248094  28.860491\n",
       "127  89.375334  37.491385  22406100  11.518475  38.711909\n",
       "128        NaN        NaN  21864200        NaN        NaN\n",
       "129        NaN        NaN  15575000        NaN        NaN\n",
       "130        NaN        NaN  48484300        NaN        NaN\n",
       "\n",
       "[131 rows x 5 columns]"
      ]
     },
     "execution_count": 100,
     "metadata": {},
     "output_type": "execute_result"
    }
   ],
   "source": [
    "df_efferent"
   ]
  },
  {
   "cell_type": "code",
   "execution_count": 87,
   "id": "a7d16468",
   "metadata": {},
   "outputs": [],
   "source": [
    "import matplotlib as plt"
   ]
  },
  {
   "cell_type": "code",
   "execution_count": 108,
   "id": "b0c8227c",
   "metadata": {},
   "outputs": [
    {
     "data": {
      "text/plain": [
       "<AxesSubplot:xlabel='-%y', ylabel='%x'>"
      ]
     },
     "execution_count": 108,
     "metadata": {},
     "output_type": "execute_result"
    },
    {
     "data": {
      "image/png": "[encoded data removed]",
      "text/plain": [
       "<Figure size 432x288 with 1 Axes>"
      ]
     },
     "metadata": {
      "needs_background": "light"
     },
     "output_type": "display_data"
    },
    {
     "data": {
      "image/png": "[encoded data removed]",
      "text/plain": [
       "<Figure size 432x288 with 1 Axes>"
      ]
     },
     "metadata": {
      "needs_background": "light"
     },
     "output_type": "display_data"
    }
   ],
   "source": [
    "df_igle.plot.scatter(x='y',y='z')\n",
    "df_igle.plot.scatter(x='-%y',y='%x')"
   ]
  },
  {
   "cell_type": "code",
   "execution_count": 110,
   "id": "48fdf45d",
   "metadata": {},
   "outputs": [
    {
     "data": {
      "text/plain": [
       "<AxesSubplot:xlabel='-%y', ylabel='%x'>"
      ]
     },
     "execution_count": 110,
     "metadata": {},
     "output_type": "execute_result"
    },
    {
     "data": {
      "image/png": "[encoded data removed]",
      "text/plain": [
       "<Figure size 432x288 with 1 Axes>"
      ]
     },
     "metadata": {
      "needs_background": "light"
     },
     "output_type": "display_data"
    },
    {
     "data": {
      "image/png": "[encoded data removed]",
      "text/plain": [
       "<Figure size 432x288 with 1 Axes>"
      ]
     },
     "metadata": {
      "needs_background": "light"
     },
     "output_type": "display_data"
    }
   ],
   "source": [
    "df_ima.plot.scatter(x='y',y='z')\n",
    "df_ima.plot.scatter(x='-%y',y='%x')"
   ]
  },
  {
   "cell_type": "code",
   "execution_count": 111,
   "id": "4a3d6f05",
   "metadata": {},
   "outputs": [
    {
     "data": {
      "text/plain": [
       "<AxesSubplot:xlabel='-%y', ylabel='%x'>"
      ]
     },
     "execution_count": 111,
     "metadata": {},
     "output_type": "execute_result"
    },
    {
     "data": {
      "image/png": "[encoded data removed]",
      "text/plain": [
       "<Figure size 432x288 with 1 Axes>"
      ]
     },
     "metadata": {
      "needs_background": "light"
     },
     "output_type": "display_data"
    },
    {
     "data": {
      "image/png": "[encoded data removed]",
      "text/plain": [
       "<Figure size 432x288 with 1 Axes>"
      ]
     },
     "metadata": {
      "needs_background": "light"
     },
     "output_type": "display_data"
    }
   ],
   "source": [
    "df_efferent.plot.scatter(x='y',y='z')\n",
    "df_efferent.plot.scatter(x='-%y',y='%x')"
   ]
  },
  {
   "cell_type": "code",
   "execution_count": null,
   "id": "46f05cac",
   "metadata": {},
   "outputs": [],
   "source": []
  }
 ],
 "metadata": {
  "kernelspec": {
   "display_name": "Python 3 (ipykernel)",
   "language": "python",
   "name": "python3"
  },
  "language_info": {
   "codemirror_mode": {
    "name": "ipython",
    "version": 3
   },
   "file_extension": ".py",
   "mimetype": "text/x-python",
   "name": "python",
   "nbconvert_exporter": "python",
   "pygments_lexer": "ipython3",
   "version": "3.9.4"
  }
 },
 "nbformat": 4,
 "nbformat_minor": 5
}
