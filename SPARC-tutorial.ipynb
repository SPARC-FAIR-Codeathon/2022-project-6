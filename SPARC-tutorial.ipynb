{
 "cells": [
  {
   "cell_type": "markdown",
   "id": "71fbbad7-cc5c-4fd5-bcc7-e5493398afcd",
   "metadata": {},
   "source": [
    "# **SPARC Codeathon 2022**\n",
    "## Mapping 2D SPARC data to 3D scaffold: a tutorial\n",
    "Code is available on GitHub [here](https://github.com/SPARC-FAIR-Codeathon/SPARC-Tutorial)"
   ]
  },
  {
   "cell_type": "code",
   "execution_count": null,
   "id": "a2f70b04-c756-41ee-b8c7-5997aaa7a099",
   "metadata": {},
   "outputs": [],
   "source": []
  }
 ],
 "metadata": {
  "kernelspec": {
   "display_name": "Python 3 (ipykernel)",
   "language": "python",
   "name": "python3"
  },
  "language_info": {
   "codemirror_mode": {
    "name": "ipython",
    "version": 3
   },
   "file_extension": ".py",
   "mimetype": "text/x-python",
   "name": "python",
   "nbconvert_exporter": "python",
   "pygments_lexer": "ipython3",
   "version": "3.10.4"
  }
 },
 "nbformat": 4,
 "nbformat_minor": 5
}
