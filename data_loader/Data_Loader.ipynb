{
 "cells": [
  {
   "cell_type": "markdown",
   "id": "e35e129b",
   "metadata": {},
   "source": [
    "## Data acquisition"
   ]
  },
  {
   "cell_type": "code",
   "execution_count": 25,
   "id": "c6dba44a",
   "metadata": {},
   "outputs": [],
   "source": [
    "from tqdm import tqdm\n",
    "import requests\n",
    "from zipfile import ZipFile\n",
    "import os"
   ]
  },
  {
   "cell_type": "code",
   "execution_count": 33,
   "id": "282c8f61",
   "metadata": {},
   "outputs": [],
   "source": [
    "## Data search\n",
    "## We are looking for interesting dataset\n",
    "\n",
    "def search_dataset(query, limit=5):\n",
    "    url = \"https://api.pennsieve.io/discover/search/datasets?limit=\"+str(limit)+\"&offset=0&query=\"+query+\"&orderBy=relevance&orderDirection=desc\"\n",
    "    headers = {\"Accept\": \"application/json\"}\n",
    "    response = requests.get(url, headers=headers)\n",
    "    rst = []\n",
    "    for r in response.json()['datasets']:\n",
    "        rst += [{'id':r['id'], 'version':r['version'], 'name':r['name'], 'tags':r['tags']}]\n",
    "    return rst\n",
    "\n",
    "def print_folder_structure(dataId, version, max_level=3): # taken from stackoverflow\n",
    "    startpath = \"Pennsieve-dataset-\"+str(dataId)+\"-version-\"+str(version)\n",
    "    for root, dirs, files in os.walk(startpath):\n",
    "        level = root.replace(startpath, '').count(os.sep)\n",
    "        if level == max_level: break\n",
    "        indent = ' ' * 4 * (level)\n",
    "        print('{}{}/'.format(indent, os.path.basename(root)))\n",
    "        subindent = ' ' * 4 * (level + 1)\n",
    "        for f in files:\n",
    "            print('{}{}'.format(subindent, f))\n",
    "            \n",
    "## download dataset function\n",
    "def get_dataset(dataId, version, dest_dir=\".\"):\n",
    "    url = \"https://api.pennsieve.io/discover/datasets/\"+str(dataId)+\"/versions/\"+str(version)+\"/download?\"\n",
    "    # download dataset\n",
    "    response = requests.get(url, stream = True)\n",
    "    file_zip = \"data.zip\"\n",
    "    data_file = open(file_zip,\"wb\")\n",
    "    for chunk in tqdm(response.iter_content(chunk_size=1024)):\n",
    "        data_file.write(chunk)\n",
    "    data_file.close()\n",
    "    # unzip dataset\n",
    "    with ZipFile(file_zip, 'r') as obj:\n",
    "       obj.extractall()\n",
    "    # delete temporary zip file\n",
    "    os.remove(file_zip)"
   ]
  },
  {
   "cell_type": "markdown",
   "id": "3d87fb44",
   "metadata": {},
   "source": [
    "### Finding interesting datasets "
   ]
  },
  {
   "cell_type": "code",
   "execution_count": 27,
   "id": "acae1b8c",
   "metadata": {
    "collapsed": true
   },
   "outputs": [
    {
     "data": {
      "text/plain": [
       "[{'id': 11,\n",
       "  'version': 3,\n",
       "  'name': 'Spatial distribution and morphometric characterization of vagal afferents (intramuscular arrays (IMAs)) within the longitudinal and circular muscle layers of the rat stomach',\n",
       "  'tags': ['tracing', 'afferent', 'stomach', 'ima', 'vagal']},\n",
       " {'id': 12,\n",
       "  'version': 3,\n",
       "  'name': 'Spatial distribution and morphometric characterization of vagal efferents associated with the myenteric plexus of the rat stomach',\n",
       "  'tags': ['tracing', 'efferent', 'stomach', 'preganglionic', 'vagal']},\n",
       " {'id': 10,\n",
       "  'version': 3,\n",
       "  'name': 'Spatial distribution and morphometric characterization of vagal afferents associated with the myenteric plexus of the rat stomach',\n",
       "  'tags': ['igle', 'tracing', 'afferent', 'stomach', 'vagal']},\n",
       " {'id': 9,\n",
       "  'version': 4,\n",
       "  'name': 'Influence of left vagal stimulus pulse parameters on vagal and gastric activity in rat',\n",
       "  'tags': ['stomach',\n",
       "   'vagus nerve stimulation',\n",
       "   'parameters',\n",
       "   'purdue',\n",
       "   'compound action potential']},\n",
       " {'id': 58,\n",
       "  'version': 1,\n",
       "  'name': \"Functional neuronal nodose recording from pig- Modulation by myocardial ischemia and variably coupled PVC's\",\n",
       "  'tags': ['cardiac',\n",
       "   'coronary occlusion',\n",
       "   '16 channel microarray',\n",
       "   'pvc',\n",
       "   'vagal afferent neurotransmission',\n",
       "   'pig',\n",
       "   'spike recording',\n",
       "   'nodose ganglion']}]"
      ]
     },
     "execution_count": 27,
     "metadata": {},
     "output_type": "execute_result"
    }
   ],
   "source": [
    "## We are looking for vagal datasets so we create a query \"vagal\", returning 5 results using default value\n",
    "search_dataset('vagal')"
   ]
  },
  {
   "cell_type": "code",
   "execution_count": null,
   "id": "4588c0d0",
   "metadata": {},
   "outputs": [],
   "source": [
    "## The first three datasets are interesting so download them\n",
    "\n",
    "get_dataset(dataId=10, version=3)\n",
    "get_dataset(dataId=11, version=3)\n",
    "get_dataset(dataId=12, version=3)"
   ]
  },
  {
   "cell_type": "code",
   "execution_count": 36,
   "id": "bea5ad71",
   "metadata": {},
   "outputs": [
    {
     "name": "stdout",
     "output_type": "stream",
     "text": [
      "Pennsieve-dataset-10-version-3/\n",
      "    banner.jpg\n",
      "    readme.md\n",
      "    manifest.json\n",
      "    files/\n",
      "        submission.xlsx\n",
      "        CHANGES\n",
      "        subjects.xlsx\n",
      "        dataset_description.xlsx\n",
      "        README\n",
      "        samples.xlsx\n",
      "        derivative/\n",
      "            manifest.csv\n",
      "        docs/\n",
      "            Neurite Map IGLEs.jpg\n",
      "            manifest.csv\n"
     ]
    }
   ],
   "source": [
    "## Exploring downloaded dataset. \n",
    "## We needs the derivative analysis result in derivative folder\n",
    "print_folder_structure(dataId=10, version=3)"
   ]
  },
  {
   "cell_type": "code",
   "execution_count": 35,
   "id": "02b0eefa",
   "metadata": {},
   "outputs": [
    {
     "name": "stdout",
     "output_type": "stream",
     "text": [
      "Pennsieve-dataset-11-version-3/\n",
      "    banner.jpg\n",
      "    readme.md\n",
      "    manifest.json\n",
      "    files/\n",
      "        submission.xlsx\n",
      "        subjects.xlsx\n",
      "        dataset_description.xlsx\n",
      "        samples.xlsx\n",
      "        derivative/\n",
      "            manifest.csv\n",
      "        source/\n"
     ]
    }
   ],
   "source": [
    "print_folder_structure(dataId=11, version=3)"
   ]
  },
  {
   "cell_type": "code",
   "execution_count": 34,
   "id": "1bd4384a",
   "metadata": {},
   "outputs": [
    {
     "name": "stdout",
     "output_type": "stream",
     "text": [
      "Pennsieve-dataset-12-version-3/\n",
      "    banner.jpg\n",
      "    readme.md\n",
      "    manifest.json\n",
      "    files/\n",
      "        submission.xlsx\n",
      "        subjects.xlsx\n",
      "        dataset_description.xlsx\n",
      "        README\n",
      "        CHANGES.txt\n",
      "        samples.xlsx\n",
      "        derivative/\n",
      "            manifest.xlsx\n",
      "        source/\n"
     ]
    }
   ],
   "source": [
    "print_folder_structure(dataId=12, version=3)"
   ]
  },
  {
   "cell_type": "code",
   "execution_count": 32,
   "id": "bc24b0b6",
   "metadata": {},
   "outputs": [],
   "source": [
    "# copy the required files to res folder for further utilisation\n",
    "!mkdir res\n",
    "!mv Pennsieve-dataset-10-version-3/files/derivative/IGLE_data.xlsx res\n",
    "!mv Pennsieve-dataset-11-version-3/files/derivative/IMA_analyzed_data.xlsx res\n",
    "!mv Pennsieve-dataset-12-version-3/files/derivative/Efferent_data.xlsx res"
   ]
  },
  {
   "cell_type": "markdown",
   "id": "fcbded48",
   "metadata": {},
   "source": [
    "## Data Preparation"
   ]
  },
  {
   "cell_type": "code",
   "execution_count": 19,
   "id": "eca405c6",
   "metadata": {},
   "outputs": [
    {
     "name": "stdout",
     "output_type": "stream",
     "text": [
      "Requirement already satisfied: pandas in /Library/Frameworks/Python.framework/Versions/3.9/lib/python3.9/site-packages (1.2.5)\n",
      "Requirement already satisfied: python-dateutil>=2.7.3 in /Library/Frameworks/Python.framework/Versions/3.9/lib/python3.9/site-packages (from pandas) (2.8.1)\n",
      "Requirement already satisfied: pytz>=2017.3 in /Library/Frameworks/Python.framework/Versions/3.9/lib/python3.9/site-packages (from pandas) (2021.1)\n",
      "Requirement already satisfied: numpy>=1.16.5 in /Library/Frameworks/Python.framework/Versions/3.9/lib/python3.9/site-packages (from pandas) (1.21.1)\n",
      "Requirement already satisfied: six>=1.5 in /Library/Frameworks/Python.framework/Versions/3.9/lib/python3.9/site-packages (from python-dateutil>=2.7.3->pandas) (1.12.0)\n",
      "\u001b[33mWARNING: You are using pip version 21.2.2; however, version 22.2.2 is available.\n",
      "You should consider upgrading via the '/Library/Frameworks/Python.framework/Versions/3.9/bin/python3 -m pip install --upgrade pip' command.\u001b[0m\n"
     ]
    }
   ],
   "source": [
    "## dependencies\n",
    "\n",
    "## Install pandas and openpyxl \n",
    "# !pip install pandas\n",
    "# !pip install openpyxl"
   ]
  },
  {
   "cell_type": "markdown",
   "id": "cdc0bc39",
   "metadata": {},
   "source": [
    "Test"
   ]
  },
  {
   "cell_type": "code",
   "execution_count": 4,
   "id": "6c83b65a",
   "metadata": {},
   "outputs": [],
   "source": [
    "import pandas as pd\n",
    "\n",
    "col_keeps = {'%x (distance from pylorus side)':'%x', '%y (distance from bottom)':'%y',\n",
    "             'Average IGLE Area (um²)':'area', 'Area Of Innervation':'area', \n",
    "             'Neuron Area Of Innervation (um²) -Convex Hull':'area'}\n",
    "\n",
    "## setup maximimum x and y width\n",
    "min_z, max_z = 0, 36.7\n",
    "min_y, max_y = 24.6, 0\n",
    "min_p, max_p = 0, 100\n",
    "\n",
    "\n",
    "def get_position(p, N1, N2):\n",
    "    return p / (max_p - min_p) * (N2 - N1) + N1\n",
    "\n",
    "def load_data(data_name):\n",
    "    df = pd.read_excel(data_name)\n",
    "    # remove unnecessary columns\n",
    "    for col in df.columns:\n",
    "        if col in col_keeps:\n",
    "            df.rename(columns = {col:col_keeps[col]}, inplace = True)\n",
    "        else:\n",
    "            df.drop(col, axis=1, inplace=True)\n",
    "    df['y'] = get_position(df['%y'], min_y, max_y)\n",
    "    df['z'] = get_position(df['%x'], min_z, max_z)\n",
    "    df['-%y'] = 100 - df['%y']\n",
    "    return df"
   ]
  },
  {
   "cell_type": "code",
   "execution_count": 14,
   "id": "f3719c8c",
   "metadata": {},
   "outputs": [],
   "source": [
    "df_igle = load_data('IGLE_data.xlsx')\n",
    "df_ima = load_data('IMA_analyzed_data.xlsx')\n",
    "df_efferent = load_data('Efferent_data.xlsx') "
   ]
  },
  {
   "cell_type": "code",
   "execution_count": 16,
   "id": "7a87f2f1",
   "metadata": {},
   "outputs": [
    {
     "data": {
      "text/html": [
       "<div>\n",
       "<style scoped>\n",
       "    .dataframe tbody tr th:only-of-type {\n",
       "        vertical-align: middle;\n",
       "    }\n",
       "\n",
       "    .dataframe tbody tr th {\n",
       "        vertical-align: top;\n",
       "    }\n",
       "\n",
       "    .dataframe thead th {\n",
       "        text-align: right;\n",
       "    }\n",
       "</style>\n",
       "<table border=\"1\" class=\"dataframe\">\n",
       "  <thead>\n",
       "    <tr style=\"text-align: right;\">\n",
       "      <th></th>\n",
       "      <th>y</th>\n",
       "      <th>z</th>\n",
       "    </tr>\n",
       "  </thead>\n",
       "  <tbody>\n",
       "    <tr>\n",
       "      <th>0</th>\n",
       "      <td>13.715644</td>\n",
       "      <td>17.253308</td>\n",
       "    </tr>\n",
       "    <tr>\n",
       "      <th>1</th>\n",
       "      <td>19.988560</td>\n",
       "      <td>9.302295</td>\n",
       "    </tr>\n",
       "    <tr>\n",
       "      <th>2</th>\n",
       "      <td>17.089456</td>\n",
       "      <td>5.248453</td>\n",
       "    </tr>\n",
       "    <tr>\n",
       "      <th>3</th>\n",
       "      <td>7.018884</td>\n",
       "      <td>8.558111</td>\n",
       "    </tr>\n",
       "    <tr>\n",
       "      <th>4</th>\n",
       "      <td>4.662302</td>\n",
       "      <td>21.698826</td>\n",
       "    </tr>\n",
       "    <tr>\n",
       "      <th>5</th>\n",
       "      <td>10.545279</td>\n",
       "      <td>13.689061</td>\n",
       "    </tr>\n",
       "  </tbody>\n",
       "</table>\n",
       "</div>"
      ],
      "text/plain": [
       "           y          z\n",
       "0  13.715644  17.253308\n",
       "1  19.988560   9.302295\n",
       "2  17.089456   5.248453\n",
       "3   7.018884   8.558111\n",
       "4   4.662302  21.698826\n",
       "5  10.545279  13.689061"
      ]
     },
     "execution_count": 16,
     "metadata": {},
     "output_type": "execute_result"
    }
   ],
   "source": [
    "df_igle.iloc[0:6][['y','z']]"
   ]
  },
  {
   "cell_type": "code",
   "execution_count": 7,
   "id": "a38e7885",
   "metadata": {},
   "outputs": [
    {
     "data": {
      "text/html": [
       "<div>\n",
       "<style scoped>\n",
       "    .dataframe tbody tr th:only-of-type {\n",
       "        vertical-align: middle;\n",
       "    }\n",
       "\n",
       "    .dataframe tbody tr th {\n",
       "        vertical-align: top;\n",
       "    }\n",
       "\n",
       "    .dataframe thead th {\n",
       "        text-align: right;\n",
       "    }\n",
       "</style>\n",
       "<table border=\"1\" class=\"dataframe\">\n",
       "  <thead>\n",
       "    <tr style=\"text-align: right;\">\n",
       "      <th></th>\n",
       "      <th>%x</th>\n",
       "      <th>%y</th>\n",
       "      <th>area</th>\n",
       "      <th>y</th>\n",
       "      <th>z</th>\n",
       "      <th>-%y</th>\n",
       "    </tr>\n",
       "  </thead>\n",
       "  <tbody>\n",
       "    <tr>\n",
       "      <th>0</th>\n",
       "      <td>28.311966</td>\n",
       "      <td>76.515152</td>\n",
       "      <td>817167</td>\n",
       "      <td>5.777273</td>\n",
       "      <td>10.390491</td>\n",
       "      <td>23.484848</td>\n",
       "    </tr>\n",
       "    <tr>\n",
       "      <th>1</th>\n",
       "      <td>55.876068</td>\n",
       "      <td>16.666667</td>\n",
       "      <td>4866190</td>\n",
       "      <td>20.500000</td>\n",
       "      <td>20.506517</td>\n",
       "      <td>83.333333</td>\n",
       "    </tr>\n",
       "    <tr>\n",
       "      <th>2</th>\n",
       "      <td>67.841880</td>\n",
       "      <td>61.019284</td>\n",
       "      <td>1679230</td>\n",
       "      <td>9.589256</td>\n",
       "      <td>24.897970</td>\n",
       "      <td>38.980716</td>\n",
       "    </tr>\n",
       "    <tr>\n",
       "      <th>3</th>\n",
       "      <td>65.331197</td>\n",
       "      <td>27.410468</td>\n",
       "      <td>12166100</td>\n",
       "      <td>17.857025</td>\n",
       "      <td>23.976549</td>\n",
       "      <td>72.589532</td>\n",
       "    </tr>\n",
       "    <tr>\n",
       "      <th>4</th>\n",
       "      <td>66.666667</td>\n",
       "      <td>21.487603</td>\n",
       "      <td>5587230</td>\n",
       "      <td>19.314050</td>\n",
       "      <td>24.466667</td>\n",
       "      <td>78.512397</td>\n",
       "    </tr>\n",
       "    <tr>\n",
       "      <th>...</th>\n",
       "      <td>...</td>\n",
       "      <td>...</td>\n",
       "      <td>...</td>\n",
       "      <td>...</td>\n",
       "      <td>...</td>\n",
       "      <td>...</td>\n",
       "    </tr>\n",
       "    <tr>\n",
       "      <th>179</th>\n",
       "      <td>12.339744</td>\n",
       "      <td>79.132231</td>\n",
       "      <td>318208</td>\n",
       "      <td>5.133471</td>\n",
       "      <td>4.528686</td>\n",
       "      <td>20.867769</td>\n",
       "    </tr>\n",
       "    <tr>\n",
       "      <th>180</th>\n",
       "      <td>6.250000</td>\n",
       "      <td>81.955923</td>\n",
       "      <td>969304</td>\n",
       "      <td>4.438843</td>\n",
       "      <td>2.293750</td>\n",
       "      <td>18.044077</td>\n",
       "    </tr>\n",
       "    <tr>\n",
       "      <th>181</th>\n",
       "      <td>7.852564</td>\n",
       "      <td>65.151515</td>\n",
       "      <td>1742690</td>\n",
       "      <td>8.572727</td>\n",
       "      <td>2.881891</td>\n",
       "      <td>34.848485</td>\n",
       "    </tr>\n",
       "    <tr>\n",
       "      <th>182</th>\n",
       "      <td>10.416667</td>\n",
       "      <td>86.294766</td>\n",
       "      <td>1302170</td>\n",
       "      <td>3.371488</td>\n",
       "      <td>3.822917</td>\n",
       "      <td>13.705234</td>\n",
       "    </tr>\n",
       "    <tr>\n",
       "      <th>183</th>\n",
       "      <td>6.356838</td>\n",
       "      <td>79.476584</td>\n",
       "      <td>1464090</td>\n",
       "      <td>5.048760</td>\n",
       "      <td>2.332959</td>\n",
       "      <td>20.523416</td>\n",
       "    </tr>\n",
       "  </tbody>\n",
       "</table>\n",
       "<p>184 rows × 6 columns</p>\n",
       "</div>"
      ],
      "text/plain": [
       "            %x         %y      area          y          z        -%y\n",
       "0    28.311966  76.515152    817167   5.777273  10.390491  23.484848\n",
       "1    55.876068  16.666667   4866190  20.500000  20.506517  83.333333\n",
       "2    67.841880  61.019284   1679230   9.589256  24.897970  38.980716\n",
       "3    65.331197  27.410468  12166100  17.857025  23.976549  72.589532\n",
       "4    66.666667  21.487603   5587230  19.314050  24.466667  78.512397\n",
       "..         ...        ...       ...        ...        ...        ...\n",
       "179  12.339744  79.132231    318208   5.133471   4.528686  20.867769\n",
       "180   6.250000  81.955923    969304   4.438843   2.293750  18.044077\n",
       "181   7.852564  65.151515   1742690   8.572727   2.881891  34.848485\n",
       "182  10.416667  86.294766   1302170   3.371488   3.822917  13.705234\n",
       "183   6.356838  79.476584   1464090   5.048760   2.332959  20.523416\n",
       "\n",
       "[184 rows x 6 columns]"
      ]
     },
     "execution_count": 7,
     "metadata": {},
     "output_type": "execute_result"
    }
   ],
   "source": [
    "df_ima"
   ]
  },
  {
   "cell_type": "code",
   "execution_count": 8,
   "id": "7c0b26e5",
   "metadata": {},
   "outputs": [
    {
     "data": {
      "text/html": [
       "<div>\n",
       "<style scoped>\n",
       "    .dataframe tbody tr th:only-of-type {\n",
       "        vertical-align: middle;\n",
       "    }\n",
       "\n",
       "    .dataframe tbody tr th {\n",
       "        vertical-align: top;\n",
       "    }\n",
       "\n",
       "    .dataframe thead th {\n",
       "        text-align: right;\n",
       "    }\n",
       "</style>\n",
       "<table border=\"1\" class=\"dataframe\">\n",
       "  <thead>\n",
       "    <tr style=\"text-align: right;\">\n",
       "      <th></th>\n",
       "      <th>%x</th>\n",
       "      <th>%y</th>\n",
       "      <th>area</th>\n",
       "      <th>y</th>\n",
       "      <th>z</th>\n",
       "      <th>-%y</th>\n",
       "    </tr>\n",
       "  </thead>\n",
       "  <tbody>\n",
       "    <tr>\n",
       "      <th>0</th>\n",
       "      <td>60.224239</td>\n",
       "      <td>36.319779</td>\n",
       "      <td>7741950</td>\n",
       "      <td>15.665334</td>\n",
       "      <td>22.102296</td>\n",
       "      <td>63.680221</td>\n",
       "    </tr>\n",
       "    <tr>\n",
       "      <th>1</th>\n",
       "      <td>27.549386</td>\n",
       "      <td>27.498277</td>\n",
       "      <td>66214800</td>\n",
       "      <td>17.835424</td>\n",
       "      <td>10.110625</td>\n",
       "      <td>72.501723</td>\n",
       "    </tr>\n",
       "    <tr>\n",
       "      <th>2</th>\n",
       "      <td>15.589963</td>\n",
       "      <td>64.093728</td>\n",
       "      <td>18164900</td>\n",
       "      <td>8.832943</td>\n",
       "      <td>5.721516</td>\n",
       "      <td>35.906272</td>\n",
       "    </tr>\n",
       "    <tr>\n",
       "      <th>3</th>\n",
       "      <td>70.528564</td>\n",
       "      <td>86.560992</td>\n",
       "      <td>11690200</td>\n",
       "      <td>3.305996</td>\n",
       "      <td>25.883983</td>\n",
       "      <td>13.439008</td>\n",
       "    </tr>\n",
       "    <tr>\n",
       "      <th>4</th>\n",
       "      <td>78.964229</td>\n",
       "      <td>83.459683</td>\n",
       "      <td>5014350</td>\n",
       "      <td>4.068918</td>\n",
       "      <td>28.979872</td>\n",
       "      <td>16.540317</td>\n",
       "    </tr>\n",
       "    <tr>\n",
       "      <th>...</th>\n",
       "      <td>...</td>\n",
       "      <td>...</td>\n",
       "      <td>...</td>\n",
       "      <td>...</td>\n",
       "      <td>...</td>\n",
       "      <td>...</td>\n",
       "    </tr>\n",
       "    <tr>\n",
       "      <th>126</th>\n",
       "      <td>66.631073</td>\n",
       "      <td>46.864232</td>\n",
       "      <td>46065100</td>\n",
       "      <td>13.071399</td>\n",
       "      <td>24.453604</td>\n",
       "      <td>53.135768</td>\n",
       "    </tr>\n",
       "    <tr>\n",
       "      <th>127</th>\n",
       "      <td>89.375334</td>\n",
       "      <td>37.491385</td>\n",
       "      <td>22406100</td>\n",
       "      <td>15.377119</td>\n",
       "      <td>32.800747</td>\n",
       "      <td>62.508615</td>\n",
       "    </tr>\n",
       "    <tr>\n",
       "      <th>128</th>\n",
       "      <td>NaN</td>\n",
       "      <td>NaN</td>\n",
       "      <td>21864200</td>\n",
       "      <td>NaN</td>\n",
       "      <td>NaN</td>\n",
       "      <td>NaN</td>\n",
       "    </tr>\n",
       "    <tr>\n",
       "      <th>129</th>\n",
       "      <td>NaN</td>\n",
       "      <td>NaN</td>\n",
       "      <td>15575000</td>\n",
       "      <td>NaN</td>\n",
       "      <td>NaN</td>\n",
       "      <td>NaN</td>\n",
       "    </tr>\n",
       "    <tr>\n",
       "      <th>130</th>\n",
       "      <td>NaN</td>\n",
       "      <td>NaN</td>\n",
       "      <td>48484300</td>\n",
       "      <td>NaN</td>\n",
       "      <td>NaN</td>\n",
       "      <td>NaN</td>\n",
       "    </tr>\n",
       "  </tbody>\n",
       "</table>\n",
       "<p>131 rows × 6 columns</p>\n",
       "</div>"
      ],
      "text/plain": [
       "            %x         %y      area          y          z        -%y\n",
       "0    60.224239  36.319779   7741950  15.665334  22.102296  63.680221\n",
       "1    27.549386  27.498277  66214800  17.835424  10.110625  72.501723\n",
       "2    15.589963  64.093728  18164900   8.832943   5.721516  35.906272\n",
       "3    70.528564  86.560992  11690200   3.305996  25.883983  13.439008\n",
       "4    78.964229  83.459683   5014350   4.068918  28.979872  16.540317\n",
       "..         ...        ...       ...        ...        ...        ...\n",
       "126  66.631073  46.864232  46065100  13.071399  24.453604  53.135768\n",
       "127  89.375334  37.491385  22406100  15.377119  32.800747  62.508615\n",
       "128        NaN        NaN  21864200        NaN        NaN        NaN\n",
       "129        NaN        NaN  15575000        NaN        NaN        NaN\n",
       "130        NaN        NaN  48484300        NaN        NaN        NaN\n",
       "\n",
       "[131 rows x 6 columns]"
      ]
     },
     "execution_count": 8,
     "metadata": {},
     "output_type": "execute_result"
    }
   ],
   "source": [
    "df_efferent"
   ]
  },
  {
   "cell_type": "code",
   "execution_count": 9,
   "id": "a7d16468",
   "metadata": {},
   "outputs": [],
   "source": [
    "import matplotlib as plt"
   ]
  },
  {
   "cell_type": "code",
   "execution_count": 10,
   "id": "7ae10127",
   "metadata": {},
   "outputs": [
    {
     "data": {
      "text/plain": [
       "<AxesSubplot:xlabel='-%y', ylabel='%x'>"
      ]
     },
     "execution_count": 10,
     "metadata": {},
     "output_type": "execute_result"
    },
    {
     "data": {
      "image/png": "[encoded data removed]",
      "text/plain": [
       "<Figure size 432x288 with 1 Axes>"
      ]
     },
     "metadata": {
      "needs_background": "light"
     },
     "output_type": "display_data"
    },
    {
     "data": {
      "image/png": "[encoded data removed]",
      "text/plain": [
       "<Figure size 432x288 with 1 Axes>"
      ]
     },
     "metadata": {
      "needs_background": "light"
     },
     "output_type": "display_data"
    }
   ],
   "source": [
    "df_igle.plot.scatter(x='y',y='z')\n",
    "df_igle.plot.scatter(x='-%y',y='%x')"
   ]
  },
  {
   "cell_type": "code",
   "execution_count": 11,
   "id": "14b77a45",
   "metadata": {},
   "outputs": [
    {
     "data": {
      "text/plain": [
       "<AxesSubplot:xlabel='-%y', ylabel='%x'>"
      ]
     },
     "execution_count": 11,
     "metadata": {},
     "output_type": "execute_result"
    },
    {
     "data": {
      "image/png": "[encoded data removed]",
      "text/plain": [
       "<Figure size 432x288 with 1 Axes>"
      ]
     },
     "metadata": {
      "needs_background": "light"
     },
     "output_type": "display_data"
    },
    {
     "data": {
      "image/png": "[encoded data removed]",
      "text/plain": [
       "<Figure size 432x288 with 1 Axes>"
      ]
     },
     "metadata": {
      "needs_background": "light"
     },
     "output_type": "display_data"
    }
   ],
   "source": [
    "df_ima.plot.scatter(x='y',y='z')\n",
    "df_ima.plot.scatter(x='-%y',y='%x')"
   ]
  },
  {
   "cell_type": "code",
   "execution_count": 12,
   "id": "0235f73f",
   "metadata": {},
   "outputs": [
    {
     "data": {
      "text/plain": [
       "<AxesSubplot:xlabel='-%y', ylabel='%x'>"
      ]
     },
     "execution_count": 12,
     "metadata": {},
     "output_type": "execute_result"
    },
    {
     "data": {
      "image/png": "[encoded data removed]",
      "text/plain": [
       "<Figure size 432x288 with 1 Axes>"
      ]
     },
     "metadata": {
      "needs_background": "light"
     },
     "output_type": "display_data"
    },
    {
     "data": {
      "image/png": "[encoded data removed]",
      "text/plain": [
       "<Figure size 432x288 with 1 Axes>"
      ]
     },
     "metadata": {
      "needs_background": "light"
     },
     "output_type": "display_data"
    }
   ],
   "source": [
    "df_efferent.plot.scatter(x='y',y='z')\n",
    "df_efferent.plot.scatter(x='-%y',y='%x')"
   ]
  },
  {
   "cell_type": "code",
   "execution_count": null,
   "id": "5f458e3c",
   "metadata": {},
   "outputs": [],
   "source": []
  }
 ],
 "metadata": {
  "kernelspec": {
   "display_name": "Python 3 (ipykernel)",
   "language": "python",
   "name": "python3"
  },
  "language_info": {
   "codemirror_mode": {
    "name": "ipython",
    "version": 3
   },
   "file_extension": ".py",
   "mimetype": "text/x-python",
   "name": "python",
   "nbconvert_exporter": "python",
   "pygments_lexer": "ipython3",
   "version": "3.9.4"
  }
 },
 "nbformat": 4,
 "nbformat_minor": 5
}
