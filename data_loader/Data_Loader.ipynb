{
 "cells": [
  {
   "cell_type": "markdown",
   "id": "fcbded48",
   "metadata": {},
   "source": [
    "## Data Preparation"
   ]
  },
  {
   "cell_type": "code",
   "execution_count": 1,
   "id": "eca405c6",
   "metadata": {},
   "outputs": [],
   "source": [
    "## dependencies\n",
    "\n",
    "## Install pandas and openpyxl \n",
    "# !pip install pandas\n",
    "# !pip install openpyxl"
   ]
  },
  {
   "cell_type": "code",
   "id": "6c83b65a",
   "metadata": {},
   "outputs": [],
   "source": [
    "import pandas as pd\n",
    "\n",
    "col_keeps = {'%x (distance from pylorus side)':'%x', '%y (distance from bottom)':'%y',\n",
    "             'Average IGLE Area (um²)':'area', 'Area Of Innervation':'area', \n",
    "             'Neuron Area Of Innervation (um²) -Convex Hull':'area'}\n",
    "\n",
    "## setup maximimum x and y width\n",
    "min_z, max_z = 0, 36.7\n",
    "min_y, max_y = 24.6, 0\n",

    "\n",
    "def load_data(data_name):\n",
    "    df = pd.read_excel(data_name)\n",
    "    # remove unnecessary columns\n",
    "    for col in df.columns:\n",
    "        if col in col_keeps:\n",
    "            df.rename(columns = {col:col_keeps[col]}, inplace = True)\n",
    "        else:\n",
    "            df.drop(col, axis=1, inplace=True)\n",

    "    return df"
   ]
  },
  {
   "cell_type": "code",
   "id": "f3719c8c",
   "metadata": {},
   "outputs": [],
   "source": [
    "df_igle = load_data('IGLE_data.xlsx')\n",
    "df_ima = load_data('IMA_analyzed_data.xlsx')\n",
    "df_efferent = load_data('Efferent_data.xlsx') "
   ]
  },
  {
   "cell_type": "code",
   "metadata": {},
   "outputs": [
    {
     "data": {
      "text/html": [
       "<div>\n",
       "<style scoped>\n",
       "    .dataframe tbody tr th:only-of-type {\n",
       "        vertical-align: middle;\n",
       "    }\n",
       "\n",
       "    .dataframe tbody tr th {\n",
       "        vertical-align: top;\n",
       "    }\n",
       "\n",
       "    .dataframe thead th {\n",
       "        text-align: right;\n",
       "    }\n",
       "</style>\n",
       "<table border=\"1\" class=\"dataframe\">\n",
       "  <thead>\n",
       "    <tr style=\"text-align: right;\">\n",
       "      <th></th>\n",

       "      <th>y</th>\n",
       "      <th>z</th>\n",
       "    </tr>\n",
       "  </thead>\n",
       "  <tbody>\n",
       "    <tr>\n",
       "      <th>0</th>\n",
     "metadata": {},
     "output_type": "execute_result"
    }
   ],
   "source": [

   ]
  },
  {
   "cell_type": "code",
   "id": "a38e7885",
   "metadata": {},
   "outputs": [
    {
     "data": {
      "text/html": [
       "<div>\n",
       "<style scoped>\n",
       "    .dataframe tbody tr th:only-of-type {\n",
       "        vertical-align: middle;\n",
       "    }\n",
       "\n",
       "    .dataframe tbody tr th {\n",
       "        vertical-align: top;\n",
       "    }\n",
       "\n",
       "    .dataframe thead th {\n",
       "        text-align: right;\n",
       "    }\n",
       "</style>\n",
       "<table border=\"1\" class=\"dataframe\">\n",
       "  <thead>\n",
       "    <tr style=\"text-align: right;\">\n",
       "      <th></th>\n",
       "      <th>%x</th>\n",
       "      <th>%y</th>\n",
       "      <th>area</th>\n",
       "      <th>y</th>\n",
       "      <th>z</th>\n",

       "    </tr>\n",
       "  </thead>\n",
       "  <tbody>\n",
       "    <tr>\n",
       "      <th>0</th>\n",
       "      <td>28.311966</td>\n",
       "      <td>76.515152</td>\n",
       "      <td>817167</td>\n",
       "    </tr>\n",
       "    <tr>\n",
       "      <th>1</th>\n",
       "      <td>55.876068</td>\n",
       "      <td>16.666667</td>\n",
       "      <td>4866190</td>\n",
       "    </tr>\n",
       "    <tr>\n",
       "      <th>2</th>\n",
       "      <td>67.841880</td>\n",
       "      <td>61.019284</td>\n",
       "      <td>1679230</td>\n",
       "    </tr>\n",
       "    <tr>\n",
       "      <th>3</th>\n",
       "      <td>65.331197</td>\n",
       "      <td>27.410468</td>\n",
       "      <td>12166100</td>\n",
       "    </tr>\n",
       "    <tr>\n",
       "      <th>4</th>\n",
       "      <td>66.666667</td>\n",
       "      <td>21.487603</td>\n",
       "      <td>5587230</td>\n",
       "    </tr>\n",
       "    <tr>\n",
       "      <th>...</th>\n",
       "      <td>...</td>\n",
       "      <td>...</td>\n",
       "      <td>...</td>\n",
       "      <td>...</td>\n",
       "      <td>...</td>\n",
       "    </tr>\n",
       "    <tr>\n",
       "      <th>179</th>\n",
       "      <td>12.339744</td>\n",
       "      <td>79.132231</td>\n",
       "      <td>318208</td>\n",
       "    </tr>\n",
       "    <tr>\n",
       "      <th>180</th>\n",
       "      <td>6.250000</td>\n",
       "      <td>81.955923</td>\n",
       "      <td>969304</td>\n",
       "    </tr>\n",
       "    <tr>\n",
       "      <th>181</th>\n",
       "      <td>7.852564</td>\n",
       "      <td>65.151515</td>\n",
       "      <td>1742690</td>\n",
       "    </tr>\n",
       "    <tr>\n",
       "      <th>182</th>\n",
       "      <td>10.416667</td>\n",
       "      <td>86.294766</td>\n",
       "      <td>1302170</td>\n",
       "    </tr>\n",
       "    <tr>\n",
       "      <th>183</th>\n",
       "      <td>6.356838</td>\n",
       "      <td>79.476584</td>\n",
       "      <td>1464090</td>\n",
     "metadata": {},
     "output_type": "execute_result"
    }
   ],
   "source": [
    "df_ima"
   ]
  },
  {
   "cell_type": "code",
   "id": "7c0b26e5",
   "metadata": {},
   "outputs": [
    {
     "data": {
      "text/html": [
       "<div>\n",
       "<style scoped>\n",
       "    .dataframe tbody tr th:only-of-type {\n",
       "        vertical-align: middle;\n",
       "    }\n",
       "\n",
       "    .dataframe tbody tr th {\n",
       "        vertical-align: top;\n",
       "    }\n",
       "\n",
       "    .dataframe thead th {\n",
       "        text-align: right;\n",
       "    }\n",
       "</style>\n",
       "<table border=\"1\" class=\"dataframe\">\n",
       "  <thead>\n",
       "    <tr style=\"text-align: right;\">\n",
       "      <th></th>\n",
       "      <th>%x</th>\n",
       "      <th>%y</th>\n",
       "      <th>area</th>\n",
       "      <th>y</th>\n",
       "      <th>z</th>\n",
       "    </tr>\n",
       "  </thead>\n",
       "  <tbody>\n",
       "    <tr>\n",
       "      <th>0</th>\n",
       "      <td>60.224239</td>\n",
       "      <td>36.319779</td>\n",
       "      <td>7741950</td>\n",
       "    </tr>\n",
       "    <tr>\n",
       "      <th>1</th>\n",
       "      <td>27.549386</td>\n",
       "      <td>27.498277</td>\n",
       "      <td>66214800</td>\n",
       "    </tr>\n",
       "    <tr>\n",
       "      <th>2</th>\n",
       "      <td>15.589963</td>\n",
       "      <td>64.093728</td>\n",
       "      <td>18164900</td>\n",
       "    </tr>\n",
       "    <tr>\n",
       "      <th>3</th>\n",
       "      <td>70.528564</td>\n",
       "      <td>86.560992</td>\n",
       "      <td>11690200</td>\n",
       "    </tr>\n",
       "    <tr>\n",
       "      <th>4</th>\n",
       "      <td>78.964229</td>\n",
       "      <td>83.459683</td>\n",
       "      <td>5014350</td>\n",
       "    </tr>\n",
       "    <tr>\n",
       "      <th>...</th>\n",
       "      <td>...</td>\n",
       "      <td>...</td>\n",
       "      <td>...</td>\n",
       "      <td>...</td>\n",
       "      <td>...</td>\n",
       "    </tr>\n",
       "    <tr>\n",
       "      <th>126</th>\n",
       "      <td>66.631073</td>\n",
       "      <td>46.864232</td>\n",
       "      <td>46065100</td>\n",
       "    </tr>\n",
       "    <tr>\n",
       "      <th>127</th>\n",
       "      <td>89.375334</td>\n",
       "      <td>37.491385</td>\n",
       "      <td>22406100</td>\n",
       "    </tr>\n",
       "    <tr>\n",
       "      <th>128</th>\n",
       "      <td>NaN</td>\n",
       "      <td>NaN</td>\n",
       "      <td>21864200</td>\n",
       "      <td>NaN</td>\n",
       "      <td>NaN</td>\n",
       "    </tr>\n",
       "    <tr>\n",
       "      <th>129</th>\n",
       "      <td>NaN</td>\n",
       "      <td>NaN</td>\n",
       "      <td>15575000</td>\n",
       "      <td>NaN</td>\n",
       "      <td>NaN</td>\n",
       "    </tr>\n",
       "    <tr>\n",
       "      <th>130</th>\n",
       "      <td>NaN</td>\n",
       "      <td>NaN</td>\n",
       "      <td>48484300</td>\n",
       "      <td>NaN</td>\n",
       "      <td>NaN</td>\n",
     "metadata": {},
     "output_type": "execute_result"
    }
   ],
   "source": [
    "df_efferent"
   ]
  },
  {
   "cell_type": "code",
   "id": "a7d16468",
   "metadata": {},
   "outputs": [],
   "source": [
    "import matplotlib as plt"
   ]
  },
  {
   "cell_type": "code",
   "metadata": {},
   "outputs": [
    {
     "data": {
      "text/plain": [
       "<AxesSubplot:xlabel='-%y', ylabel='%x'>"
      ]
     },
     "metadata": {},
     "output_type": "execute_result"
    },
    {
     "data": {
      "text/plain": [
       "<Figure size 432x288 with 1 Axes>"
      ]
     },
     "metadata": {
      "needs_background": "light"
     },
     "output_type": "display_data"
    },
    {
     "data": {
      "image/png": "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\n",
      "text/plain": [
       "<Figure size 432x288 with 1 Axes>"
      ]
     },
     "metadata": {
      "needs_background": "light"
     },
     "output_type": "display_data"
    }
   ],
   "source": [
    "df_igle.plot.scatter(x='y',y='z')\n",
    "df_igle.plot.scatter(x='-%y',y='%x')"
   ]
  },
  {
   "cell_type": "code",
   "metadata": {},
   "outputs": [
    {
     "data": {
      "text/plain": [
       "<AxesSubplot:xlabel='-%y', ylabel='%x'>"
      ]
     },
     "metadata": {},
     "output_type": "execute_result"
    },
    {
     "data": {
      "text/plain": [
       "<Figure size 432x288 with 1 Axes>"
      ]
     },
     "metadata": {
      "needs_background": "light"
     },
     "output_type": "display_data"
    },
    {
     "data": {
      "image/png": "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\n",
      "text/plain": [
       "<Figure size 432x288 with 1 Axes>"
      ]
     },
     "metadata": {
      "needs_background": "light"
     },
     "output_type": "display_data"
    }
   ],
   "source": [
    "df_ima.plot.scatter(x='y',y='z')\n",
    "df_ima.plot.scatter(x='-%y',y='%x')"
   ]
  },
  {
   "cell_type": "code",
   "metadata": {},
   "outputs": [
    {
     "data": {
      "text/plain": [
       "<AxesSubplot:xlabel='-%y', ylabel='%x'>"
      ]
     },
     "metadata": {},
     "output_type": "execute_result"
    },
    {
     "data": {
      "text/plain": [
       "<Figure size 432x288 with 1 Axes>"
      ]
     },
     "metadata": {
      "needs_background": "light"
     },
     "output_type": "display_data"
    },
    {
     "data": {
      "image/png": "iVBORw0KGgoAAAANSUhEUgAAAX4AAAEGCAYAAABiq/5QAAAAOXRFWHRTb2Z0d2FyZQBNYXRwbG90bGliIHZlcnNpb24zLjQuMiwgaHR0cHM6Ly9tYXRwbG90bGliLm9yZy8rg+JYAAAACXBIWXMAAAsTAAALEwEAmpwYAAAio0lEQVR4nO3de5TcZZ3n8fe3qy+5AQmdiOSCcTaiJ3GToFkQg5w16o6DGHFAh/HGelDOnB3vDInuLOMiMx6Cjg7CHl0GdxYd11viTNjo7iwSZh04czLbgU6EoJLxQtJcEnoSoCH0peq7f1RVUt1d1V1dXc/v+nmdk5N0VafqqapffX/P832+z/Mzd0dERPKjI+4GiIhItBT4RURyRoFfRCRnFPhFRHJGgV9EJGc6425AMxYvXuwrV66MuxkiIqmyd+/ep919ycTbUxH4V65cSV9fX9zNEBFJFTP7Tb3bleoREckZBX4RkZxR4BcRyRkFfhGRnFHgFxHJGQV+SbTBoWH2HTrO4NBw3E0RyYxUlHNKPu3sH2Drjv10dXQwWipx8+Vr2bx+WdzNEkk99fglkQaHhtm6Yz8vjpZ4bniMF0dLbNmxXz1/kTZQ4JdEOnzsBF0d4w/Pro4ODh87Eew5lVaSvFCqRxJp+aK5jJZK424bLZVYvmhukOdLYlppcGiYw8dOsHzRXHoX9MTaFskW9fglkXoX9HDz5WuZ09XBaT2dzOnq4ObL1wYJgElMK+3sH2Djtt287449bNy2m7v6B2Jri2SPevySWJvXL2PjqsXBe73VtNKLnBphVNNKcfS0a09E1TZt2bGfjasWq+cvbaHAL4nWu6AneLCLOq00naSdiCR7lOqR3IsyrdSMpJ2IJHvU4xchurRSM6onoi0TJpvV25d2UeAXqYgirdSs2hPR/O4Cz48UGRwaTkz7JN0U+DNIZYBhRP2+9i7o4b6DTyeuzHQmdCwmkwJ/xiSxHj0L4nhf017do2MxuTS5mxGDQ8P85BdH2LJ9X6Lq0bMgrjr/2a5ejnMlcqvvmVZPR0M9/gyo9qw6zBge83H3qQxw9uIqr5xNdU9cve1qaueZE6Mzfs80QoiOAn/K1fas6klLGeDg0DAPP/4MYKxZenqiTlRxlVe2Wt0TV4qoNnCPFEsUZ/CepT2tlTYK/ClXrzcKMK+rQAlPRRngzv4B/uj7+xgtlkcrnR3wpXevT0xvL87yylbKTOMYodQL3F0Fo6cTuguFce9ZvQlfLVqLlgJ/ytXrjfZ0dvC19782cT3negaHhtmyff/JoA8wVoLrtu9LVG8vrjr/Vqpi4hih1AvcczoL/Jf3nscZc7tPtr9ROkeL1qKlyd2Uq7fq9AtXrOXic5c0lRKIeyLt8LETFDps0u0FC7sFcyt6F/SwbsXCyIJ+qxu1xbESuVHgXrP0jJPv2VQTvklbPZ116vFnQCu90aRMpC1fNJdiySfdXvR89/Zmm/OOeoTSTDpsunROklZPZ50Cf0bMZNVpHBNpjVIWvQt6+MIVa7l2Qo7/C1esa6ktWVkw1I6cd9QrkadbbVxvVDBcLDG/uxBbm/NKgT+Hop5Im250UQ0Ys63qScooph3SmvOearVx7agA4MXREubOpbfdl+rPKo2U48+hKINKswt5ehf0cPG5L2lqbmI2z5MWac15T/c5bF6/jF0fuYhSJb03XPTUf1ZppB5/DkVZnhjV6OLwsRMUbPwkcdrLAdOY827m835+pEhPZ4GR4ljD35GwFPhzKqqgEtXo4qGBZ3h+pBj8eaKWtpx3M593WtNYWaJUT45FUZ44m5RFs+Wmg0PD3PjDA5Nuv/5tq1MVNLOgmc87rWmsLFGPP6CsVJjMVuhy03rphfk9BV697Iy2vYa0iuMYbObzTkoaK6/fUQX+QLJUYdIOIctN66UOiiXPfeqgHcdgq4Gxmc877jRWnr+jSvUEEHeFSRJW5M7GTLcjVupgstkeg4NDw3zlnkd5/U0zXzmcBnF/R+OmHn8AcW44NVUvJsnD2tq2tTL5l5TUQVLM5hjc2T/Alu37Tm7xPTyWvd0y874pnAJ/AHFVLUyVIknyJfzqnaxaKTeNO3WQJM0egxM7A9VjaOJ1HWDmgTHJHY28VxYp8AcQ1za+jXoxDz/+7Ky3aAj1JW50srp/6ybu37opsYGj3dr9/jZzDNY74b6sd37dbb6hHBjndxf4yS+OAs6apWek9qIqcW61nQQK/IHEkXpo1IsBn9WwNuSXeKohd5Q7YcYp1Ps71THY6IS76yMXTTqGoLzV97tfu5y33vITKpkfugrGn79r3aS2puWiKnlOD2pyN6Cot/HtXdDD9Zeupruzg/k9hZOTnGuWntHysDb0JFjeh9yh399Gx2CjCfTnR4rjJsp7Oo1r33IuP/zoRXy379DJoA8wWnSu2z65rbO9VnCUov6OJkWme/ztGj4n7XEa2dk/wI27DtDVYYyOlfjs29ec7I21OqwNPQmW9yF3Eq/nu27Fwkk94X2HjlOwDmD86uhCh01qa95P5mmQ2cDfruFz0h6nkXrX3r3xhwd466tfOqu9ztv5JW504svSkHumJ/d2vL+tdCimO+FOnChfvmguRZ+cAqq3XiLvJ/M0MPfJs/dte3CzTwIfAhz4KfBB4GzgO0AvsBd4v7uPTPU4GzZs8L6+vqafd3BomI3bdo8LgnO6Orh/66YZHXxJe5yp7Dt0nPfdsYfnhk9tfHVaTyd//aELWLdi4awe+67+gUlf4rRe+GU2pguwE1/jp958LmfO72b9ioWsOuu0ho9b7/1t9r2Z7fs6k5PGXf0DfPK7/VSvktkox9/KY0sYZrbX3TdMvD1Yj9/MlgEfA1a7+wkz+x5wJXAJ8GV3/46ZfQ24GvhqO5+7XcPnpD3OVEIOryf2yO87+DQbt+1uOtikZbJvKtMF2Hqv8fP/62cn7//AhefwuXf867qP3eqIpx3v60xKYB3oLBjdGGNe4j/XpBKneuzqgkKdAJIj9ORuJzDXzDqBecATwCZge+X+O4HL2v2k7QqCjR5nfndhRitjo8h5hl69Wp0EA2Y8GZmmyb56mpmArfcaa33jHx/j4FPPNby/9v1t9tiK8n2tre8/MVZitFhOJU7XzlavGyxhBQv87j4AfBF4jHLAf4Zyaue4u1fzEYeBul0GM7vGzPrMrO/o0aMzeu52BcF6j/PuDcu59Lb7ZnQghw7K1R7VxlWLuX/rJv76Qxdw/9ZNQVIprQSbtE/2NfOa673GifoPHZ/y/pkGySjf11Y+97xvi5BkIVM9i4B3AC8HjgPfB97a7P9399uB26Gc45/p87drwnDidUQvve2+lobWoSYwo86dtxJs0j7Z18xrrn2NHcALo5NPAuunmGtpJW0T5fvayuee920RkixkVc+bgV+5+1EAM/sBsBFYaGadlV7/ciDY2K9dS/irj7Pv0PFZHcjt3lIgjtx5q8EmzZU7zb7m2tf4rT2/4Xt9h0/e94ELz5lygrfVIBnV+9rK5572kV6WhQz8jwGvM7N5wAngTUAfcC9wBeXKnquAnQHb0FZJO5Dj6lG1GmzSvJdOs6+5+hrXrVjINW/4LfoPHZ+2qgdmd2xF9b7O9HNP+0gvy4IFfnffY2bbgQeAMeBByqmbHwLfMbM/rdz29VBtaLdQB3KrZW9R1Ng3kpYg3s6Swpm+5lVnnTZtwK997DQEyZm+B2ke6WVZ0Dr+dplpHX9o7Qwms83Rz6YGvF1taFUUK5nTtnYgKbXvSWmHzE6jOn4F/hjVW9jV09nBX35gA2uWnh5058zq/6mdsK5q9+KyeqJYyRx60VxWpfGEKfVFvoBLplcvRz88VuIPvrmXEt70F26mw+/aL/bwWJGODht3f+h5gigmpVVR0posLLaT6Wl3zhg1qv1+YbQYrOZ5Ym31SNHH9Yoh/IR1FAuPkjYRnxZpX2wnzVHgj1Htwq553YVJ94f4wtX7YvcUjO7O6K5Xm4WVzM1I47WPdcLMB6V6Ylatenj48Wf48Df6xl3yLsQXrt4X2zqMH37kIp4fKbY8mTeTeYaoKljirChJa548zuoiTShHR5O7CdKOCp04nqfVIJfVL3oWJpaj/mzSeqJMOk3upkBUPdR2Ps9sJgPTshZgJgaHhrn3Z0coWLQT5u3WzGfTzgsUaUI5Wgr8CdPOYDjVF7Ndz6PqmVOqvdbODuP5kfFXqspanrydPfSpjqHq/VkbFcZNgT+joho6xzkZmKRUUb0roAHM7y5QdE/kKtxWtbuH3ugYemjgGX7v9n+c1QWApD4F/gyKcugc12RgknLC1fRO54T1EPN7Ctzw9jW88VUvyVSQavcor94xdP2lq7lx14Fxx/CnvtdPoaOD7kL8n3naKfBnUNTpl6irZ5KUE66egAo2Ob1TLHnmgj6EGeVNPIbqHcNjJRgrlRge0zzAbKmOP4PiSL9Ud6SM4kuYlEVGtSeg2qA/v6cQy7qBqIRaI1F7DDVzYRstLGudevwZlJadHltVLygMjxWZX2cRXEj1eqXzu5Of3mnH3EjoUd7EY3ikWKTkMFoMu84lL3Jfx5+kCcJ2y/Jrq65F8JIzXHTmdJVHACHyvo3exzTW6ydpbqQZte/9/QefjmSdS5Zod8460vYlkPEOPvUcl9x6HyNj4QLvdMdIVIvu2iGNJ6qJstyZCUELuCZI0gShtOb5kSI9hY5xgb+dk9jNHCNputBIFtZczHT9iU4U9eU28GfhS5B3oSex6x0jHWY8/PgzXHzuS07elpYVyHnbgE0j+sZyW9WTty9BFoXegbPeMfLCSJEPf6OPu/oH2vIcUUrCjqVRmbj9eKhtztMqtz3+rFe+5EXIVEv1GLlu+/6TteMAw2Oe2rRgmlJTs6ER/dRyG/ghP1+CKMSZSw2Zatm8fhkL53XzB9/cywujp2r1kxpEmvkc0pKamg2N6KeW68AP+fgShJb1XOqapadTYnz1WxKDSNY/h5moHdEXzBgpFvng61fG3azEyG2OX9ojD7nUNOTG630O123fl6nPYaY2r1/G9W9bzfBYidEifPX//pILPv/jVM7PtFvue/wh5aGULC+51LjTgoNDwzz8+LOAs2bpGZOev97nMDzm/I89j/HRN70i0rYmxeDQMJ/bdYCx0qnR2lgJrtu+L5XzM+2kwB9IXobdecqlxpUW3Nk/wLXf66c6v9xVMP78XevGHU/LF81lpFic9H9vu/cg77ngnFwGucPHTlCYsGMqQMGy1zGZKaV6AshD+qMqDWmQNBscGmbL9n3UFBUxWnSu2z7+eOpd0MNH3ji5Z99dyO9GZssXzaVYmrwzQdGz2TGZCfX4A8hL+qMq7jRIlh0+doKCdQDje/OFDpt0PL3ngnO47d6D40pPszr6akbvgh6+cMVarv3+vpObu3V2wBeuWJf7Y1SBP4C8pD8mzmHk/csUwvJFcyn65O2JiyWfdDxVA53WppxS7ZQ8/PgzgLFm6em5fj+qcr1JW0hp2ryrFXmZw0iCu/oH+NQ0Of5aeSgqkOZod84YZPULmIVdHtNmuqoeiU5U3+t2PI9254xBVtMfeZvDaLdWvtC9C3q4+NwlgVsm04lqpBv6eRT4ZcbyMocRglJk6RXVVu5RPI/KOWXGVMLZmjyV+WZRVNd6juJ51OOXlqiEc+aynCKrpq/mdxd4fqSYyWMiqpFuFM+jwC8ty+ocRihZTZFV01dRXP84TlFt5R7F86iqRyRCWSvzrVfhVZXVSi9V9YjIjGQtRVYvfVWVlTTWRFGNdEM+jwJ/RmV1DUEWZClFVi99VZWFNFZWBa3qMbOFZrbdzH5mZo+Y2YVmdqaZ3W1mj1b+XhSyDXm0s3+Ajdt287479rBx2+5M7T8+ODTMvkPHVQmTELUVXj2F8k6Yc7o6xlV66TNLnqA5fjO7E/gHd7/DzLqBecB/BP7F3W8ys08Di9x961SPoxx/87K8qlY18MnVqKpHn1m8GuX4g/X4zewM4GLg6wDuPuLux4F3AHdWfu1O4LJQbcijqGqNo6Ya+GTrXdDDuhULWXXWaaxbsfBkT1+fWTKFTPW8HDgK/JWZPWhmd5jZfOAsd3+i8jtPAmfV+89mdo2Z9ZlZ39GjRwM2M1uyWjL48OPP0GHjL6qRhRNalmW1E5IFIQN/J/Aa4Kvufh7wPPDp2l/wcp6pbq7J3W939w3uvmHJEu1R0qwsrqrd2T/Ah7/Rxwsj4/ekz8IJLcuy2gnJgpBVPYeBw+6+p/LzdsqB/ykzO9vdnzCzs4EjAduQS1kqGaymC4bHxvcPejrTf0KbiTRWaUW14ElmLljgd/cnzeyQmb3S3X8OvAk4UPlzFXBT5e+dodqQZ1kpGaxXJz6vq8DX3v/a3OxWmeYJ0ix1QrIkdB3/R4FvVSp6fgl8kHJ66XtmdjXwG+DdgdsgKVYvXVDCWbP09JhaFK2odoQMKSudkCwJGvjdvR+YVEpEufefG2kcpidF3tMFWd7YTeKjlbuBpXmYnhR5ThdoglRC0H78AamOuX2qdeJ5CvoQXZWWVtfmi3r8AWmYLu0QesSjUWn+0rEK/AFpmC7tEmqCNAuTx7OVxxOfUj0BZXExlWRL3lfX5jUdqx5/YHmemJTky/uoNK/pWPX4I5DXiUlJvryPSvN64muqx29mNwI3uPtY5efTgVvc/YMhGyci4eV5VJrXdSLNpno6gT1m9kHKu2neBtwarFUiEqk8r67N44mvqcDv7p8xsx8De4BjwMXufjBoy0TaqJVyvbyV+OVZ3k58zaZ6Lga+AnwOWAvcamZXu/vjIRsn0g6tlOslqcRPJyBpt2ZTPV8E3uXuBwDM7J3AbuBVoRom0g6t1KmHrm2fSSBP0glIsqPZwH+huxfN7ALgBmAOcH24Zom0RyvleiFL/GYSyA8+9RzXfX8fI0XP7eIqCWPKck4zeymAu1cvfXQt8E7gEuBPwjZNZPZaKdcLVeI3k8VCO/sHuOTW+xgpjr8ATZYWVzXaH0j7BoU3XY//a2b2AHCzu78IHAeuAErAs4HbJjJrrZTrhSrxa3YkUT1BjIyVJj1GVmrMG418lNqKxpSB390vM7O3A7vM7BvAJ4D3APOAy4K3TqQNWinXC1Hi1+xIot4JAqC7YJmoMW80h7L67NNzv29QVKZduevu/xP4beAM4G+AX7j7V9z9aOjGibRLK6un273iutlVsvVOEN2dHfzoY2/IRO+30f5A/YeO52LfoCSksqbs8ZvZZuCTwBjweeCbwPVm9h+AP3b3fw7fRJHsaGYk0SjVtOqs02Jocfs1GvmsX7Ew89snJCWVZe7e+E6z/cD5wFzg79z9/MrtrwBudPcro2jkhg0bvK+vL4qnEkmMLNfv39U/MOnEtnn9soa3Z8Hg0DAbt+3mxdFTJ7c5XR3cv3VTsM/XzPa6+6TL3043ufsM8LuUc/pHqje6+6NAJEFfJK+yvJq00cgny9snJGkn0OkC/zuB3wdGKU/qioi0RaMTW1ZPeEnaCXTKyV13f9rdb3X3r7m7yjdFUiD05GGck5NJmBhtVZK2wNaFWEQyJPTkYZyTk0mZGJ2NpKSydCEWkYwIfRnBOC9TmKVLJCbhwkwK/CIZEfr6uXFenzfv1wZuNwV+kYSaaT479ORhnJOTSZoYzQIFfhGSN2m4s3+Ajdt287479rBx227u6h+Y9v/0Lujh+retprtgzO8utH3yMM7JySRNjGbBlAu4kkILuCSkpE0atrrQp/o6OjuMkaLz2bev5r0XvCxI++KanMzyorYQGi3gUo9fci2Jk4at5LNrX8fQcJGRsRI37joQ5HXEOTmZhInRLFDgl1xL4qRhK/nsJL4OSS4Ffsm1JE4atpLPTuLrkOTSAi7JtVAXXZmtmS70SerrkGTS5K4I2Zk0zMrrkPZodXdOkVzIysZgWXkdEpZy/CIiOaPALyKSMwr8IiI5o8AvIpIzwQO/mRXM7EEz21X5+eVmtsfMDprZd82sO3QbRETklCh6/B8HHqn5eRvwZXdfBRwDro6gDSIiUhE08JvZcuBtwB2Vnw3YBGyv/MqdwGUh2yAiIuOF7vH/BbAFTl5Wvhc47u5jlZ8PA3W3QTSza8ysz8z6jh49GriZIiL5ESzwm9mlwBF339vK/3f32919g7tvWLJkSZtbJyKSXyFX7m4ENpvZJcAc4HTgFmChmXVWev3LgemvMCEiIm0TrMfv7p9x9+XuvhK4Etjt7u8F7gWuqPzaVcDOUG0QEZHJ4qjj3wp8yswOUs75fz2GNoiI5FYkm7S5+98Df1/59y+B86N4XhERmUwrd0VEckaBX0QkZxT4RURyRoFfRCRnFPhFRHJGgV9EJGcU+EVEckaBX0QkZxT4RURyRoFfRCRnFPhFRHJGgV9EMmNwaJh9h44zODQcd1MSLZJN2kREQtvZP8DWHfvp6uhgtFTi5svXsnl93Qv85Z56/CKSeoNDw2zdsZ8XR0s8NzzGi6MltuzYr55/Awr8IpJ6h4+doKtjfDjr6ujg8LETMbUo2RT4RST1li+ay2ipNO620VKJ5YvmxtSiZFPgF0k4TVhOr3dBDzdfvpY5XR2c1tPJnK4Obr58Lb0LeuJuWiJpclckwTRh2bzN65excdViDh87wfJFcxX0p6DAL5JQtROWL1JOY2zZsZ+NqxYrqDXQu6BH700TlOoRSShNWEooCvwiCaUJy7DyPHeiVI9IQlUnLLdMyPErlTF7eZ87UeAXSTBNWLaf5k4U+EUSTxOW7VWdO6kGfTg1d5KX91k5fhHJjGby9tPNneQh968ev4hkQrN5+6nmTvKS+zd3j7sN09qwYYP39fXF3QwRSajBoWE2btvNi6OnevJzujq4f+umhumbwaHhcXMnrTxG0pnZXnffMPF2pXpEJPVaWfPQu6CHdSsWngzqeVo3ocAvIqnXjjUPeVo3ocAvIqnXjk3a8rTRm3L8IpIZE/P2cT1GUjTK8auqRySQLAWQtGjHmoc8rJtQ4BcJIC9lgZJOyvGLtJmu/ypJp8Av0mZ5KguUdFLgF2mzPJUFSjop8Iu0WZ7KAiWdNLkrEoC2U5YkC9bjN7MVZnavmR0ws4fN7OOV2880s7vN7NHK34tCtUGkVtS7Lk7cEkAkKUL2+MeAa939ATM7DdhrZncD/x64x91vMrNPA58GtgZsh4jKK0VqBOvxu/sT7v5A5d/PAY8Ay4B3AHdWfu1O4LJQbRABlVfOVB72o8/Da5xKJDl+M1sJnAfsAc5y9ycqdz0JnNXg/1wDXANwzjnnRNBKySpdcal5eRgZ5eE1Tid4VY+ZLQB2AJ9w92dr7/PyRkF1Nwty99vdfYO7b1iyZEnoZkqGqbyyOXkYGeXhNTYjaOA3sy7KQf9b7v6Dys1PmdnZlfvPBo6EbIOIyiubk4eFZ3l4jc0IluoxMwO+Djzi7l+quesu4CrgpsrfO0O1QaRK5ZXTy8PIKA+vsRkhe/wbgfcDm8ysv/LnEsoB/y1m9ijw5srPkmFJmUhTeeXU8jAyysNrbIb245egNJEWn1a3hc7DdtJ5eI2g/fglBrUTadWKmi079rNx1eJMf9mSYDYn3DzsR5+H1zgV7dUjwTQ7kZaUVFBWqHJFpqMevwTTzESaUkHtp3ULMh31+CWY6SbS1DMNQ5UrMh31+CWoqcoo1TMNo3rC3TJhJKX3VKoU+KVtGlVKNJpIU880HK1bkKko8EtbtJKrV880rLxXrkhjCvwya7Mp25xNzzQvtdgi7abAL7M221x9Kz1TVQOJtE5VPTJrUefqVQ0kMjsK/DJrUe9/oh0WRWZHqR5piyirSKIaYWgOQbJKgV/aJqoqkiiqgTSHIFmmwC+pFHKEEXpzOY0kJG4K/JJaoUYYIVcUayQhSaDJXZEJQs0hqBpJkkKBX2SCUFVKqkaSpFCqR6SOEHMI2ptIkkI9fpEG2n2NXl3vVZJCPX6RCGnXTEkCBX6RiGnXTImbUj0iIjmjwC8ikjMK/CIiOaPALyKSMwr8IiI5Y+4edxumZWZHgd9M82uLgacjaE47qK1hpKmtkK72qq1hhG7ry9x9ycQbUxH4m2Fmfe6+Ie52NENtDSNNbYV0tVdtDSOutirVIyKSMwr8IiI5k6XAf3vcDZgBtTWMNLUV0tVetTWMWNqamRy/iIg0J0s9fhERaYICv4hIzqQy8JvZfzOzI2b2UM1tZ5rZ3Wb2aOXvRXG2sdKmFWZ2r5kdMLOHzezjSW0rgJnNMbN/MrN9lfbeULn95Wa2x8wOmtl3zaw77rZWmVnBzB40s12VnxPZVjP7tZn91Mz6zayvcltSj4OFZrbdzH5mZo+Y2YVJbKuZvbLyflb/PGtmn0hiWwHM7JOV79VDZvbtyvctluM1lYEf+O/AWyfc9mngHnd/BXBP5ee4jQHXuvtq4HXAH5rZapLZVoBhYJO7rwPWA281s9cB24Avu/sq4BhwdXxNnOTjwCM1Pye5rW909/U1ddtJPQ5uAf63u78KWEf5/U1cW93955X3cz3wWuAF4G9IYFvNbBnwMWCDu78aKABXEtfx6u6p/AOsBB6q+fnnwNmVf58N/DzuNtZp807gLSlp6zzgAeACyisLOyu3Xwj8Xdztq7RlOeUv9iZgF2AJbuuvgcUTbkvccQCcAfyKSuFHkts6oX3/Drg/qW0FlgGHgDMpXwdlF/DbcR2vae3x13OWuz9R+feTwFlxNmYiM1sJnAfsIcFtraRO+oEjwN3APwPH3X2s8iuHKR/ESfAXwBageiHbXpLbVgf+j5ntNbNrKrcl8Th4OXAU+KtKCu0OM5tPMtta60rg25V/J66t7j4AfBF4DHgCeAbYS0zHa5YC/0lePn0mpk7VzBYAO4BPuPuztfclra3uXvTy0Hk5cD7wqnhbVJ+ZXQoccfe9cbelSRe5+2uA36Gc8ru49s4EHQedwGuAr7r7ecDzTEiVJKitAFTy4puB70+8LyltrcwzvIPyiXUpMJ/J6erIZCnwP2VmZwNU/j4Sc3sAMLMuykH/W+7+g8rNiWxrLXc/DtxLefi50Myql+lcDgzE1a4aG4HNZvZr4DuU0z23kMy2Vnt8uPsRynno80nmcXAYOOzueyo/b6d8IkhiW6t+B3jA3Z+q/JzEtr4Z+JW7H3X3UeAHlI/hWI7XLAX+u4CrKv++inI+PVZmZsDXgUfc/Us1dyWurQBmtsTMFlb+PZfyfMQjlE8AV1R+LRHtdffPuPtyd19JeZi/293fSwLbambzzey06r8p56MfIoHHgbs/CRwys1dWbnoTcIAEtrXG73MqzQPJbOtjwOvMbF4lLlTf13iO17gnPVqcKPk25TzZKOUeytWU87v3AI8CPwbOTEA7L6I8zNwP9Ff+XJLEtlbauxZ4sNLeh4A/qdz+W8A/AQcpD6d74m7rhHb/W2BXUttaadO+yp+HgT+u3J7U42A90Fc5Dv4WWJTgts4HBoEzam5LaltvAH5W+W59E+iJ63jVlg0iIjmTpVSPiIg0QYFfRCRnFPhFRHJGgV9EJGcU+EVEckaBX6QJZnZ5ZWfFfzCz3spt/8rMvht320RmSoFfpDkfBf4N8F+B91Ru+1PgP8XWIpEWKfCLNKdEecHNPGDUzN4APOnuj1Z/wcw+Z2afqPn5z6rXYBBJEi3gEmmCmb0FuAl4HHgf5VWWV7r7v9T8zkrgB+7+GjProLxy9Hx3H4yhySINdU7/KyLi7ndT3qYaM/sA8CPgXDP7I8oX0Pi4u//azAbN7DzKWwE/qKAvSaQev0gDZvaHwIcrP17i7o+b2TxOXURjF/C7lDfZ6nb3vzSz3wNeD7wUuNPdfxRD00WmpMAvMgNm9llgn7v/rZn9hPKe6pdT3gjslsre8D8FuoBXuHsxxuaK1KVUj0iTzGwp5Zz9DZWbbgX+H3AcuAzA3UfM7F7KV1ZS0JdEUo9fpI0qk7oPAO+qrfgRSRKVc4q0iZmtpryv+j0K+pJk6vGLiOSMevwiIjmjwC8ikjMK/CIiOaPALyKSMwr8IiI58/8BziCh0QvqBkAAAAAASUVORK5CYII=\n",
      "text/plain": [
       "<Figure size 432x288 with 1 Axes>"
      ]
     },
     "metadata": {
      "needs_background": "light"
     },
     "output_type": "display_data"
    }
   ],
   "source": [
    "df_efferent.plot.scatter(x='y',y='z')\n",
    "df_efferent.plot.scatter(x='-%y',y='%x')"
   ]
  },
  {
   "cell_type": "code",
   "execution_count": null,
   "metadata": {},
   "outputs": [],
   "source": []
  }
 ],
 "metadata": {
  "kernelspec": {
   "display_name": "Python 3 (ipykernel)",
   "language": "python",
   "name": "python3"
  },
  "language_info": {
   "codemirror_mode": {
    "name": "ipython",
    "version": 3
   },
   "file_extension": ".py",
   "mimetype": "text/x-python",
   "name": "python",
   "nbconvert_exporter": "python",
   "pygments_lexer": "ipython3",
   "version": "3.9.4"
  }
 },
 "nbformat": 4,
 "nbformat_minor": 5
}
