{
 "cells": [
  {
   "cell_type": "markdown",
   "id": "71fbbad7-cc5c-4fd5-bcc7-e5493398afcd",
   "metadata": {
    "tags": []
   },
   "source": [
    "# **<center>SPARC FAIR Codeathon 2022</center>**\n",
    "<center>\n",
    "<a href=\"https://sparc.science\">\n",
    "<img src=\"https://sparc.science/_nuxt/img/logo-sparc-wave-primary.8ed83a5.svg\" alt=\"SPARC\" width=\"150\"/>\n",
    "</a>\n",
    "</center>\n",
    "<center>\n",
    "<a href=\"https://sparc.science/help/2022-sparc-fair-codeathon\">\n",
    "<img src=\"https://images.ctfassets.net/6bya4tyw8399/2qgsOmFnm7wYIfRrPrqbgx/ae3255858aa12bfcebb52e95c7cacffe/codeathon-graphic.png\" alt=\"FAIR\" width=\"75\">\n",
    "</a>\n",
    "</center>\n",
    "\n",
    "## <center>Mapping 2D data to a 3D organ scaffold</center>\n"
   ]
  },
  {
   "cell_type": "markdown",
   "id": "fdde64e8-4021-4a6b-bae7-b90b40239999",
   "metadata": {
    "tags": []
   },
   "source": [
    "## **Introduction**\n",
    "Welcome to the first of the Quilted Tutorials! We will be demonstrating different features from the [**SPARC**](https://sparc.science/) project. The goal will be to project the 2D locations of neurites in the rat stomach onto a 3D scaffhold of the organ. The data points and the 3D scaffhold will be pulled from **SPARC** datasets. Because the data is [**FAIR**](https://www.nature.com/articles/sdata201618) we will be combining three different datasets of the spatial distribution of the vagal afferents and efferents. Here is the workflow for this tutorial\n",
    "\n",
    "![workflow](img/workflow.png)"
   ]
  },
  {
   "cell_type": "markdown",
   "id": "ed86df40-1ae5-4ad9-9b88-cd87333aff43",
   "metadata": {},
   "source": [
    "## **Installing the dependencies**\n",
    "This tutorial relies on several Python packages that have been developed as part of the **SPARC** project. We will be installing them in order to complete this tutorial."
   ]
  },
  {
   "cell_type": "code",
   "execution_count": 26,
   "id": "1fcb5a50-148a-42d4-a984-d96c866dacc8",
   "metadata": {},
   "outputs": [
    {
     "name": "stdout",
     "output_type": "stream",
     "text": [
      "Defaulting to user installation because normal site-packages is not writeable\n",
      "Requirement already satisfied: pandas in /home/mroe734/.local/lib/python3.10/site-packages (1.4.3)\n",
      "Requirement already satisfied: numpy>=1.21.0 in /home/mroe734/.local/lib/python3.10/site-packages (from pandas) (1.23.0)\n",
      "Requirement already satisfied: pytz>=2020.1 in /usr/lib/python3/dist-packages (from pandas) (2022.1)\n",
      "Requirement already satisfied: python-dateutil>=2.8.1 in /home/mroe734/.local/lib/python3.10/site-packages (from pandas) (2.8.2)\n",
      "Requirement already satisfied: six>=1.5 in /usr/lib/python3/dist-packages (from python-dateutil>=2.8.1->pandas) (1.16.0)\n",
      "Defaulting to user installation because normal site-packages is not writeable\n",
      "Requirement already satisfied: openpyxl in /home/mroe734/.local/lib/python3.10/site-packages (3.0.10)\n",
      "Requirement already satisfied: et-xmlfile in /home/mroe734/.local/lib/python3.10/site-packages (from openpyxl) (1.1.0)\n",
      "Defaulting to user installation because normal site-packages is not writeable\n",
      "Requirement already satisfied: ipywidgets in /home/mroe734/.local/lib/python3.10/site-packages (7.7.1)\n",
      "Requirement already satisfied: widgetsnbextension~=3.6.0 in /home/mroe734/.local/lib/python3.10/site-packages (from ipywidgets) (3.6.1)\n",
      "Requirement already satisfied: ipykernel>=4.5.1 in /home/mroe734/.local/lib/python3.10/site-packages (from ipywidgets) (6.15.1)\n",
      "Requirement already satisfied: jupyterlab-widgets>=1.0.0 in /home/mroe734/.local/lib/python3.10/site-packages (from ipywidgets) (1.1.1)\n",
      "Requirement already satisfied: ipython>=4.0.0 in /home/mroe734/.local/lib/python3.10/site-packages (from ipywidgets) (8.4.0)\n",
      "Requirement already satisfied: traitlets>=4.3.1 in /home/mroe734/.local/lib/python3.10/site-packages (from ipywidgets) (5.3.0)\n",
      "Requirement already satisfied: ipython-genutils~=0.2.0 in /home/mroe734/.local/lib/python3.10/site-packages (from ipywidgets) (0.2.0)\n",
      "Requirement already satisfied: matplotlib-inline>=0.1 in /home/mroe734/.local/lib/python3.10/site-packages (from ipykernel>=4.5.1->ipywidgets) (0.1.3)\n",
      "Requirement already satisfied: debugpy>=1.0 in /home/mroe734/.local/lib/python3.10/site-packages (from ipykernel>=4.5.1->ipywidgets) (1.6.2)\n",
      "Requirement already satisfied: psutil in /home/mroe734/.local/lib/python3.10/site-packages (from ipykernel>=4.5.1->ipywidgets) (5.9.1)\n",
      "Requirement already satisfied: nest-asyncio in /home/mroe734/.local/lib/python3.10/site-packages (from ipykernel>=4.5.1->ipywidgets) (1.5.5)\n",
      "Requirement already satisfied: packaging in /home/mroe734/.local/lib/python3.10/site-packages (from ipykernel>=4.5.1->ipywidgets) (21.3)\n",
      "Requirement already satisfied: tornado>=6.1 in /home/mroe734/.local/lib/python3.10/site-packages (from ipykernel>=4.5.1->ipywidgets) (6.2)\n",
      "Requirement already satisfied: pyzmq>=17 in /home/mroe734/.local/lib/python3.10/site-packages (from ipykernel>=4.5.1->ipywidgets) (23.2.0)\n",
      "Requirement already satisfied: jupyter-client>=6.1.12 in /home/mroe734/.local/lib/python3.10/site-packages (from ipykernel>=4.5.1->ipywidgets) (7.3.4)\n",
      "Requirement already satisfied: pygments>=2.4.0 in /home/mroe734/.local/lib/python3.10/site-packages (from ipython>=4.0.0->ipywidgets) (2.12.0)\n",
      "Requirement already satisfied: pexpect>4.3 in /usr/lib/python3/dist-packages (from ipython>=4.0.0->ipywidgets) (4.8.0)\n",
      "Requirement already satisfied: setuptools>=18.5 in /usr/lib/python3/dist-packages (from ipython>=4.0.0->ipywidgets) (59.6.0)\n",
      "Requirement already satisfied: prompt-toolkit!=3.0.0,!=3.0.1,<3.1.0,>=2.0.0 in /home/mroe734/.local/lib/python3.10/site-packages (from ipython>=4.0.0->ipywidgets) (3.0.30)\n",
      "Requirement already satisfied: pickleshare in /home/mroe734/.local/lib/python3.10/site-packages (from ipython>=4.0.0->ipywidgets) (0.7.5)\n",
      "Requirement already satisfied: decorator in /home/mroe734/.local/lib/python3.10/site-packages (from ipython>=4.0.0->ipywidgets) (5.1.1)\n",
      "Requirement already satisfied: jedi>=0.16 in /home/mroe734/.local/lib/python3.10/site-packages (from ipython>=4.0.0->ipywidgets) (0.18.1)\n",
      "Requirement already satisfied: backcall in /home/mroe734/.local/lib/python3.10/site-packages (from ipython>=4.0.0->ipywidgets) (0.2.0)\n",
      "Requirement already satisfied: stack-data in /home/mroe734/.local/lib/python3.10/site-packages (from ipython>=4.0.0->ipywidgets) (0.3.0)\n",
      "Requirement already satisfied: notebook>=4.4.1 in /home/mroe734/.local/lib/python3.10/site-packages (from widgetsnbextension~=3.6.0->ipywidgets) (6.4.12)\n",
      "Requirement already satisfied: parso<0.9.0,>=0.8.0 in /home/mroe734/.local/lib/python3.10/site-packages (from jedi>=0.16->ipython>=4.0.0->ipywidgets) (0.8.3)\n",
      "Requirement already satisfied: python-dateutil>=2.8.2 in /home/mroe734/.local/lib/python3.10/site-packages (from jupyter-client>=6.1.12->ipykernel>=4.5.1->ipywidgets) (2.8.2)\n",
      "Requirement already satisfied: jupyter-core>=4.9.2 in /home/mroe734/.local/lib/python3.10/site-packages (from jupyter-client>=6.1.12->ipykernel>=4.5.1->ipywidgets) (4.11.1)\n",
      "Requirement already satisfied: entrypoints in /home/mroe734/.local/lib/python3.10/site-packages (from jupyter-client>=6.1.12->ipykernel>=4.5.1->ipywidgets) (0.4)\n",
      "Requirement already satisfied: Send2Trash>=1.8.0 in /home/mroe734/.local/lib/python3.10/site-packages (from notebook>=4.4.1->widgetsnbextension~=3.6.0->ipywidgets) (1.8.0)\n",
      "Requirement already satisfied: nbconvert>=5 in /home/mroe734/.local/lib/python3.10/site-packages (from notebook>=4.4.1->widgetsnbextension~=3.6.0->ipywidgets) (6.5.0)\n",
      "Requirement already satisfied: prometheus-client in /home/mroe734/.local/lib/python3.10/site-packages (from notebook>=4.4.1->widgetsnbextension~=3.6.0->ipywidgets) (0.14.1)\n",
      "Requirement already satisfied: nbformat in /home/mroe734/.local/lib/python3.10/site-packages (from notebook>=4.4.1->widgetsnbextension~=3.6.0->ipywidgets) (5.4.0)\n",
      "Requirement already satisfied: argon2-cffi in /home/mroe734/.local/lib/python3.10/site-packages (from notebook>=4.4.1->widgetsnbextension~=3.6.0->ipywidgets) (21.3.0)\n",
      "Requirement already satisfied: terminado>=0.8.3 in /home/mroe734/.local/lib/python3.10/site-packages (from notebook>=4.4.1->widgetsnbextension~=3.6.0->ipywidgets) (0.15.0)\n",
      "Requirement already satisfied: jinja2 in /usr/lib/python3/dist-packages (from notebook>=4.4.1->widgetsnbextension~=3.6.0->ipywidgets) (3.0.3)\n",
      "Requirement already satisfied: wcwidth in /home/mroe734/.local/lib/python3.10/site-packages (from prompt-toolkit!=3.0.0,!=3.0.1,<3.1.0,>=2.0.0->ipython>=4.0.0->ipywidgets) (0.2.5)\n",
      "Requirement already satisfied: pyparsing!=3.0.5,>=2.0.2 in /usr/lib/python3/dist-packages (from packaging->ipykernel>=4.5.1->ipywidgets) (2.4.7)\n",
      "Requirement already satisfied: pure-eval in /home/mroe734/.local/lib/python3.10/site-packages (from stack-data->ipython>=4.0.0->ipywidgets) (0.2.2)\n",
      "Requirement already satisfied: executing in /home/mroe734/.local/lib/python3.10/site-packages (from stack-data->ipython>=4.0.0->ipywidgets) (0.9.1)\n",
      "Requirement already satisfied: asttokens in /home/mroe734/.local/lib/python3.10/site-packages (from stack-data->ipython>=4.0.0->ipywidgets) (2.0.5)\n",
      "Requirement already satisfied: beautifulsoup4 in /home/mroe734/.local/lib/python3.10/site-packages (from nbconvert>=5->notebook>=4.4.1->widgetsnbextension~=3.6.0->ipywidgets) (4.11.1)\n",
      "Requirement already satisfied: tinycss2 in /home/mroe734/.local/lib/python3.10/site-packages (from nbconvert>=5->notebook>=4.4.1->widgetsnbextension~=3.6.0->ipywidgets) (1.1.1)\n",
      "Requirement already satisfied: pandocfilters>=1.4.1 in /home/mroe734/.local/lib/python3.10/site-packages (from nbconvert>=5->notebook>=4.4.1->widgetsnbextension~=3.6.0->ipywidgets) (1.5.0)\n",
      "Requirement already satisfied: defusedxml in /home/mroe734/.local/lib/python3.10/site-packages (from nbconvert>=5->notebook>=4.4.1->widgetsnbextension~=3.6.0->ipywidgets) (0.7.1)\n",
      "Requirement already satisfied: MarkupSafe>=2.0 in /usr/lib/python3/dist-packages (from nbconvert>=5->notebook>=4.4.1->widgetsnbextension~=3.6.0->ipywidgets) (2.0.1)\n",
      "Requirement already satisfied: bleach in /home/mroe734/.local/lib/python3.10/site-packages (from nbconvert>=5->notebook>=4.4.1->widgetsnbextension~=3.6.0->ipywidgets) (5.0.1)\n",
      "Requirement already satisfied: nbclient>=0.5.0 in /home/mroe734/.local/lib/python3.10/site-packages (from nbconvert>=5->notebook>=4.4.1->widgetsnbextension~=3.6.0->ipywidgets) (0.6.6)\n",
      "Requirement already satisfied: jupyterlab-pygments in /home/mroe734/.local/lib/python3.10/site-packages (from nbconvert>=5->notebook>=4.4.1->widgetsnbextension~=3.6.0->ipywidgets) (0.2.2)\n",
      "Requirement already satisfied: mistune<2,>=0.8.1 in /home/mroe734/.local/lib/python3.10/site-packages (from nbconvert>=5->notebook>=4.4.1->widgetsnbextension~=3.6.0->ipywidgets) (0.8.4)\n",
      "Requirement already satisfied: jsonschema>=2.6 in /usr/lib/python3/dist-packages (from nbformat->notebook>=4.4.1->widgetsnbextension~=3.6.0->ipywidgets) (3.2.0)\n",
      "Requirement already satisfied: fastjsonschema in /home/mroe734/.local/lib/python3.10/site-packages (from nbformat->notebook>=4.4.1->widgetsnbextension~=3.6.0->ipywidgets) (2.16.1)\n",
      "Requirement already satisfied: six>=1.5 in /usr/lib/python3/dist-packages (from python-dateutil>=2.8.2->jupyter-client>=6.1.12->ipykernel>=4.5.1->ipywidgets) (1.16.0)\n",
      "Requirement already satisfied: ptyprocess in /usr/lib/python3/dist-packages (from terminado>=0.8.3->notebook>=4.4.1->widgetsnbextension~=3.6.0->ipywidgets) (0.7.0)\n",
      "Requirement already satisfied: argon2-cffi-bindings in /home/mroe734/.local/lib/python3.10/site-packages (from argon2-cffi->notebook>=4.4.1->widgetsnbextension~=3.6.0->ipywidgets) (21.2.0)\n",
      "Requirement already satisfied: cffi>=1.0.1 in /usr/lib/python3/dist-packages (from argon2-cffi-bindings->argon2-cffi->notebook>=4.4.1->widgetsnbextension~=3.6.0->ipywidgets) (1.15.0)\n",
      "Requirement already satisfied: soupsieve>1.2 in /home/mroe734/.local/lib/python3.10/site-packages (from beautifulsoup4->nbconvert>=5->notebook>=4.4.1->widgetsnbextension~=3.6.0->ipywidgets) (2.3.2.post1)\n",
      "Requirement already satisfied: webencodings in /home/mroe734/.local/lib/python3.10/site-packages (from bleach->nbconvert>=5->notebook>=4.4.1->widgetsnbextension~=3.6.0->ipywidgets) (0.5.1)\n",
      "Defaulting to user installation because normal site-packages is not writeable\n",
      "Requirement already satisfied: numpy in /home/mroe734/.local/lib/python3.10/site-packages (1.23.0)\n",
      "Defaulting to user installation because normal site-packages is not writeable\n",
      "Requirement already satisfied: numpy-stl in /home/mroe734/.local/lib/python3.10/site-packages (2.17.1)\n",
      "Requirement already satisfied: numpy in /home/mroe734/.local/lib/python3.10/site-packages (from numpy-stl) (1.23.0)\n",
      "Requirement already satisfied: python-utils>=1.6.2 in /home/mroe734/.local/lib/python3.10/site-packages (from numpy-stl) (3.3.3)\n",
      "Defaulting to user installation because normal site-packages is not writeable\n",
      "Requirement already satisfied: matplotlib in /home/mroe734/.local/lib/python3.10/site-packages (3.5.2)\n",
      "Requirement already satisfied: python-dateutil>=2.7 in /home/mroe734/.local/lib/python3.10/site-packages (from matplotlib) (2.8.2)\n",
      "Requirement already satisfied: pillow>=6.2.0 in /usr/lib/python3/dist-packages (from matplotlib) (9.0.1)\n",
      "Requirement already satisfied: fonttools>=4.22.0 in /home/mroe734/.local/lib/python3.10/site-packages (from matplotlib) (4.33.3)\n",
      "Requirement already satisfied: packaging>=20.0 in /home/mroe734/.local/lib/python3.10/site-packages (from matplotlib) (21.3)\n",
      "Requirement already satisfied: cycler>=0.10 in /home/mroe734/.local/lib/python3.10/site-packages (from matplotlib) (0.11.0)\n",
      "Requirement already satisfied: kiwisolver>=1.0.1 in /home/mroe734/.local/lib/python3.10/site-packages (from matplotlib) (1.4.3)\n",
      "Requirement already satisfied: pyparsing>=2.2.1 in /usr/lib/python3/dist-packages (from matplotlib) (2.4.7)\n",
      "Requirement already satisfied: numpy>=1.17 in /home/mroe734/.local/lib/python3.10/site-packages (from matplotlib) (1.23.0)\n",
      "Requirement already satisfied: six>=1.5 in /usr/lib/python3/dist-packages (from python-dateutil>=2.7->matplotlib) (1.16.0)\n",
      "Defaulting to user installation because normal site-packages is not writeable\n",
      "Requirement already satisfied: ipympl in /home/mroe734/.local/lib/python3.10/site-packages (0.9.1)\n",
      "Requirement already satisfied: ipython<9 in /home/mroe734/.local/lib/python3.10/site-packages (from ipympl) (8.4.0)\n",
      "Requirement already satisfied: traitlets<6 in /home/mroe734/.local/lib/python3.10/site-packages (from ipympl) (5.3.0)\n",
      "Requirement already satisfied: matplotlib<4,>=3.4.0 in /home/mroe734/.local/lib/python3.10/site-packages (from ipympl) (3.5.2)\n",
      "Requirement already satisfied: pillow in /usr/lib/python3/dist-packages (from ipympl) (9.0.1)\n",
      "Requirement already satisfied: ipython-genutils in /home/mroe734/.local/lib/python3.10/site-packages (from ipympl) (0.2.0)\n",
      "Requirement already satisfied: ipywidgets<8,>=7.6.0 in /home/mroe734/.local/lib/python3.10/site-packages (from ipympl) (7.7.1)\n",
      "Requirement already satisfied: numpy in /home/mroe734/.local/lib/python3.10/site-packages (from ipympl) (1.23.0)\n",
      "Requirement already satisfied: pickleshare in /home/mroe734/.local/lib/python3.10/site-packages (from ipython<9->ipympl) (0.7.5)\n",
      "Requirement already satisfied: decorator in /home/mroe734/.local/lib/python3.10/site-packages (from ipython<9->ipympl) (5.1.1)\n",
      "Requirement already satisfied: jedi>=0.16 in /home/mroe734/.local/lib/python3.10/site-packages (from ipython<9->ipympl) (0.18.1)\n",
      "Requirement already satisfied: pexpect>4.3 in /usr/lib/python3/dist-packages (from ipython<9->ipympl) (4.8.0)\n",
      "Requirement already satisfied: pygments>=2.4.0 in /home/mroe734/.local/lib/python3.10/site-packages (from ipython<9->ipympl) (2.12.0)\n",
      "Requirement already satisfied: matplotlib-inline in /home/mroe734/.local/lib/python3.10/site-packages (from ipython<9->ipympl) (0.1.3)\n",
      "Requirement already satisfied: backcall in /home/mroe734/.local/lib/python3.10/site-packages (from ipython<9->ipympl) (0.2.0)\n",
      "Requirement already satisfied: stack-data in /home/mroe734/.local/lib/python3.10/site-packages (from ipython<9->ipympl) (0.3.0)\n",
      "Requirement already satisfied: prompt-toolkit!=3.0.0,!=3.0.1,<3.1.0,>=2.0.0 in /home/mroe734/.local/lib/python3.10/site-packages (from ipython<9->ipympl) (3.0.30)\n",
      "Requirement already satisfied: setuptools>=18.5 in /usr/lib/python3/dist-packages (from ipython<9->ipympl) (59.6.0)\n",
      "Requirement already satisfied: ipykernel>=4.5.1 in /home/mroe734/.local/lib/python3.10/site-packages (from ipywidgets<8,>=7.6.0->ipympl) (6.15.1)\n",
      "Requirement already satisfied: widgetsnbextension~=3.6.0 in /home/mroe734/.local/lib/python3.10/site-packages (from ipywidgets<8,>=7.6.0->ipympl) (3.6.1)\n",
      "Requirement already satisfied: jupyterlab-widgets>=1.0.0 in /home/mroe734/.local/lib/python3.10/site-packages (from ipywidgets<8,>=7.6.0->ipympl) (1.1.1)\n",
      "Requirement already satisfied: kiwisolver>=1.0.1 in /home/mroe734/.local/lib/python3.10/site-packages (from matplotlib<4,>=3.4.0->ipympl) (1.4.3)\n",
      "Requirement already satisfied: fonttools>=4.22.0 in /home/mroe734/.local/lib/python3.10/site-packages (from matplotlib<4,>=3.4.0->ipympl) (4.33.3)\n",
      "Requirement already satisfied: packaging>=20.0 in /home/mroe734/.local/lib/python3.10/site-packages (from matplotlib<4,>=3.4.0->ipympl) (21.3)\n",
      "Requirement already satisfied: pyparsing>=2.2.1 in /usr/lib/python3/dist-packages (from matplotlib<4,>=3.4.0->ipympl) (2.4.7)\n",
      "Requirement already satisfied: python-dateutil>=2.7 in /home/mroe734/.local/lib/python3.10/site-packages (from matplotlib<4,>=3.4.0->ipympl) (2.8.2)\n",
      "Requirement already satisfied: cycler>=0.10 in /home/mroe734/.local/lib/python3.10/site-packages (from matplotlib<4,>=3.4.0->ipympl) (0.11.0)\n",
      "Requirement already satisfied: nest-asyncio in /home/mroe734/.local/lib/python3.10/site-packages (from ipykernel>=4.5.1->ipywidgets<8,>=7.6.0->ipympl) (1.5.5)\n",
      "Requirement already satisfied: psutil in /home/mroe734/.local/lib/python3.10/site-packages (from ipykernel>=4.5.1->ipywidgets<8,>=7.6.0->ipympl) (5.9.1)\n",
      "Requirement already satisfied: debugpy>=1.0 in /home/mroe734/.local/lib/python3.10/site-packages (from ipykernel>=4.5.1->ipywidgets<8,>=7.6.0->ipympl) (1.6.2)\n",
      "Requirement already satisfied: tornado>=6.1 in /home/mroe734/.local/lib/python3.10/site-packages (from ipykernel>=4.5.1->ipywidgets<8,>=7.6.0->ipympl) (6.2)\n",
      "Requirement already satisfied: pyzmq>=17 in /home/mroe734/.local/lib/python3.10/site-packages (from ipykernel>=4.5.1->ipywidgets<8,>=7.6.0->ipympl) (23.2.0)\n",
      "Requirement already satisfied: jupyter-client>=6.1.12 in /home/mroe734/.local/lib/python3.10/site-packages (from ipykernel>=4.5.1->ipywidgets<8,>=7.6.0->ipympl) (7.3.4)\n",
      "Requirement already satisfied: parso<0.9.0,>=0.8.0 in /home/mroe734/.local/lib/python3.10/site-packages (from jedi>=0.16->ipython<9->ipympl) (0.8.3)\n",
      "Requirement already satisfied: wcwidth in /home/mroe734/.local/lib/python3.10/site-packages (from prompt-toolkit!=3.0.0,!=3.0.1,<3.1.0,>=2.0.0->ipython<9->ipympl) (0.2.5)\n",
      "Requirement already satisfied: six>=1.5 in /usr/lib/python3/dist-packages (from python-dateutil>=2.7->matplotlib<4,>=3.4.0->ipympl) (1.16.0)\n",
      "Requirement already satisfied: notebook>=4.4.1 in /home/mroe734/.local/lib/python3.10/site-packages (from widgetsnbextension~=3.6.0->ipywidgets<8,>=7.6.0->ipympl) (6.4.12)\n",
      "Requirement already satisfied: pure-eval in /home/mroe734/.local/lib/python3.10/site-packages (from stack-data->ipython<9->ipympl) (0.2.2)\n",
      "Requirement already satisfied: executing in /home/mroe734/.local/lib/python3.10/site-packages (from stack-data->ipython<9->ipympl) (0.9.1)\n",
      "Requirement already satisfied: asttokens in /home/mroe734/.local/lib/python3.10/site-packages (from stack-data->ipython<9->ipympl) (2.0.5)\n",
      "Requirement already satisfied: entrypoints in /home/mroe734/.local/lib/python3.10/site-packages (from jupyter-client>=6.1.12->ipykernel>=4.5.1->ipywidgets<8,>=7.6.0->ipympl) (0.4)\n",
      "Requirement already satisfied: jupyter-core>=4.9.2 in /home/mroe734/.local/lib/python3.10/site-packages (from jupyter-client>=6.1.12->ipykernel>=4.5.1->ipywidgets<8,>=7.6.0->ipympl) (4.11.1)\n",
      "Requirement already satisfied: terminado>=0.8.3 in /home/mroe734/.local/lib/python3.10/site-packages (from notebook>=4.4.1->widgetsnbextension~=3.6.0->ipywidgets<8,>=7.6.0->ipympl) (0.15.0)\n",
      "Requirement already satisfied: prometheus-client in /home/mroe734/.local/lib/python3.10/site-packages (from notebook>=4.4.1->widgetsnbextension~=3.6.0->ipywidgets<8,>=7.6.0->ipympl) (0.14.1)\n",
      "Requirement already satisfied: nbconvert>=5 in /home/mroe734/.local/lib/python3.10/site-packages (from notebook>=4.4.1->widgetsnbextension~=3.6.0->ipywidgets<8,>=7.6.0->ipympl) (6.5.0)\n",
      "Requirement already satisfied: Send2Trash>=1.8.0 in /home/mroe734/.local/lib/python3.10/site-packages (from notebook>=4.4.1->widgetsnbextension~=3.6.0->ipywidgets<8,>=7.6.0->ipympl) (1.8.0)\n",
      "Requirement already satisfied: jinja2 in /usr/lib/python3/dist-packages (from notebook>=4.4.1->widgetsnbextension~=3.6.0->ipywidgets<8,>=7.6.0->ipympl) (3.0.3)\n",
      "Requirement already satisfied: nbformat in /home/mroe734/.local/lib/python3.10/site-packages (from notebook>=4.4.1->widgetsnbextension~=3.6.0->ipywidgets<8,>=7.6.0->ipympl) (5.4.0)\n",
      "Requirement already satisfied: argon2-cffi in /home/mroe734/.local/lib/python3.10/site-packages (from notebook>=4.4.1->widgetsnbextension~=3.6.0->ipywidgets<8,>=7.6.0->ipympl) (21.3.0)\n",
      "Requirement already satisfied: nbclient>=0.5.0 in /home/mroe734/.local/lib/python3.10/site-packages (from nbconvert>=5->notebook>=4.4.1->widgetsnbextension~=3.6.0->ipywidgets<8,>=7.6.0->ipympl) (0.6.6)\n",
      "Requirement already satisfied: pandocfilters>=1.4.1 in /home/mroe734/.local/lib/python3.10/site-packages (from nbconvert>=5->notebook>=4.4.1->widgetsnbextension~=3.6.0->ipywidgets<8,>=7.6.0->ipympl) (1.5.0)\n",
      "Requirement already satisfied: beautifulsoup4 in /home/mroe734/.local/lib/python3.10/site-packages (from nbconvert>=5->notebook>=4.4.1->widgetsnbextension~=3.6.0->ipywidgets<8,>=7.6.0->ipympl) (4.11.1)\n",
      "Requirement already satisfied: tinycss2 in /home/mroe734/.local/lib/python3.10/site-packages (from nbconvert>=5->notebook>=4.4.1->widgetsnbextension~=3.6.0->ipywidgets<8,>=7.6.0->ipympl) (1.1.1)\n",
      "Requirement already satisfied: defusedxml in /home/mroe734/.local/lib/python3.10/site-packages (from nbconvert>=5->notebook>=4.4.1->widgetsnbextension~=3.6.0->ipywidgets<8,>=7.6.0->ipympl) (0.7.1)\n",
      "Requirement already satisfied: bleach in /home/mroe734/.local/lib/python3.10/site-packages (from nbconvert>=5->notebook>=4.4.1->widgetsnbextension~=3.6.0->ipywidgets<8,>=7.6.0->ipympl) (5.0.1)\n",
      "Requirement already satisfied: MarkupSafe>=2.0 in /usr/lib/python3/dist-packages (from nbconvert>=5->notebook>=4.4.1->widgetsnbextension~=3.6.0->ipywidgets<8,>=7.6.0->ipympl) (2.0.1)\n",
      "Requirement already satisfied: mistune<2,>=0.8.1 in /home/mroe734/.local/lib/python3.10/site-packages (from nbconvert>=5->notebook>=4.4.1->widgetsnbextension~=3.6.0->ipywidgets<8,>=7.6.0->ipympl) (0.8.4)\n",
      "Requirement already satisfied: jupyterlab-pygments in /home/mroe734/.local/lib/python3.10/site-packages (from nbconvert>=5->notebook>=4.4.1->widgetsnbextension~=3.6.0->ipywidgets<8,>=7.6.0->ipympl) (0.2.2)\n",
      "Requirement already satisfied: jsonschema>=2.6 in /usr/lib/python3/dist-packages (from nbformat->notebook>=4.4.1->widgetsnbextension~=3.6.0->ipywidgets<8,>=7.6.0->ipympl) (3.2.0)\n",
      "Requirement already satisfied: fastjsonschema in /home/mroe734/.local/lib/python3.10/site-packages (from nbformat->notebook>=4.4.1->widgetsnbextension~=3.6.0->ipywidgets<8,>=7.6.0->ipympl) (2.16.1)\n",
      "Requirement already satisfied: ptyprocess in /usr/lib/python3/dist-packages (from terminado>=0.8.3->notebook>=4.4.1->widgetsnbextension~=3.6.0->ipywidgets<8,>=7.6.0->ipympl) (0.7.0)\n",
      "Requirement already satisfied: argon2-cffi-bindings in /home/mroe734/.local/lib/python3.10/site-packages (from argon2-cffi->notebook>=4.4.1->widgetsnbextension~=3.6.0->ipywidgets<8,>=7.6.0->ipympl) (21.2.0)\n",
      "Requirement already satisfied: cffi>=1.0.1 in /usr/lib/python3/dist-packages (from argon2-cffi-bindings->argon2-cffi->notebook>=4.4.1->widgetsnbextension~=3.6.0->ipywidgets<8,>=7.6.0->ipympl) (1.15.0)\n",
      "Requirement already satisfied: soupsieve>1.2 in /home/mroe734/.local/lib/python3.10/site-packages (from beautifulsoup4->nbconvert>=5->notebook>=4.4.1->widgetsnbextension~=3.6.0->ipywidgets<8,>=7.6.0->ipympl) (2.3.2.post1)\n",
      "Requirement already satisfied: webencodings in /home/mroe734/.local/lib/python3.10/site-packages (from bleach->nbconvert>=5->notebook>=4.4.1->widgetsnbextension~=3.6.0->ipywidgets<8,>=7.6.0->ipympl) (0.5.1)\n"
     ]
    }
   ],
   "source": [
    "!pip install pandas # To load SPARC datasets in Python\n",
    "!pip install openpyxl # Pandas complement for Microsoft Excel files\n",
    "!pip install ipywidgets # To interact with plotted data\n",
    "# For data visualisation\n",
    "!pip install numpy\n",
    "!pip install numpy-stl\n",
    "!pip install matplotlib\n",
    "!pip install ipympl"
   ]
  },
  {
   "cell_type": "markdown",
   "id": "4c612c58-6029-4498-bc12-6afa6c8cfd2b",
   "metadata": {
    "tags": []
   },
   "source": [
    "## **Retrieving the data**\n",
    "Now that all the dependencies have been installed we will retrieve the data from directly from the [**SPARC**](https://sparc.science) project website. \n",
    "We will be using three datasets:\n",
    " * [vagal afferents associated with the myenteric plexus of the rat stomach](https://sparc.science/datasets/10?type=dataset&datasetDetailsTab=files)\n",
    " * [vagal afferents within the longitudinal and circular muscle layers of the rat stomach](https://sparc.science/datasets/11?type=dataset&datasetDetailsTab=files)\n",
    " * [vagal efferents associated with the myenteric plexus of the rat stomach](https://sparc.science/datasets/12?type=dataset&datasetDetailsTab=files)\n",
    " \n",
    "You can search through all of the **SPARC** datasets [here](https://sparc.science/data?type=dataset) or simply click on the links above to be redirected directly to the datasets. \n",
    "\n",
    "It is possible to downlowd the entire dataset by clicking on the purple ***Download full dataset*** button  in the **Download Dataset** tab or selecting specific files and folders in the **Dataset Files** tab lower in the page. If you haven't used the links above, you can click on the purple ***Get Dataset*** button on the left side of the screen or directly in the ***Files*** tab. \n",
    "\n",
    "For this tutorial, we are only interested in the contents of the _derative_ folder which contains two .xlsx files: one with the data (IGLE_data.xlsx, IMA_analyzed_data.xlsx, and Efferent_data.xlsx) and a manifest (manifest.xlsx). Enter the _derivative_ folder and select the xlsx file containing the data by ticking the box in front of it. Download the file by clicking the **Download Selected Files and Folders** button at the bottom. You will then be prompted to select the location in which to save it. For each dataset, save it in the _SPARC-tutorial_ folder. \n",
    "\n",
    "#### ⚠️  **SPARC Guru tip**: \n",
    "Ever heard of Pennsieve? It's the **SPARC** tool to use if you want to avoid downloading the data manually. It even has a Python API so you can integrate it directly into this Notebook! Check out the [documentation](https://docs.pennsieve.io/)."
   ]
  },
  {
   "cell_type": "markdown",
   "id": "9f332370-006a-4e4e-bf58-acda9f2d660b",
   "metadata": {},
   "source": [
    "### **Imports**\n",
    "Here we import all of the dependencies that we will need to run the code correctly."
   ]
  },
  {
   "cell_type": "code",
   "execution_count": 27,
   "id": "e2cccacb-ac11-4313-ab0d-48072a51fa5c",
   "metadata": {},
   "outputs": [],
   "source": [
    "import numpy as np\n",
    "import pandas as pd\n",
    "import matplotlib.pyplot as plt\n",
    "\n",
    "from stl import mesh as msh\n",
    "from mpl_toolkits import mplot3d\n",
    "from ipywidgets import interact, Checkbox, fixed"
   ]
  },
  {
   "cell_type": "markdown",
   "id": "4b1122c6-7110-4351-998d-1e93e7aaf9cd",
   "metadata": {
    "tags": []
   },
   "source": [
    "### **Helper functions**\n",
    "Now that we have installed and imported the required dependencies, we are going to define some helper functions.\n",
    "\n",
    "#### _get\\_position_\n",
    "This function will allow use to convert the position of the data from a percentage into a distance in mm."
   ]
  },
  {
   "cell_type": "code",
   "execution_count": 28,
   "id": "9e321aaf-0669-4acd-8b22-0aacaae34f84",
   "metadata": {},
   "outputs": [],
   "source": [
    "def get_position(percent, min_val, max_val):\n",
    "    \"\"\" Converts the position from percentage to distance.\n",
    "    \n",
    "    Inputs:\n",
    "    percent -- float, percentage value.\n",
    "    min_val -- float, minimum distance for conversion.\n",
    "    max_val -- float, maximum distance for conversion.\n",
    "    \n",
    "    Outputs:\n",
    "    converted_value -- float, converted value.\n",
    "    \n",
    "    \"\"\"\n",
    "    return percent / 100 * (max_val - min_val) + min_val "
   ]
  },
  {
   "cell_type": "markdown",
   "id": "ee8fd96b-bfd2-412e-83ea-8b14dbc80bd3",
   "metadata": {},
   "source": [
    "#### _load\\_data_\n",
    "This function will allow use to extract the correct elements inside the data files and store them into a data frame."
   ]
  },
  {
   "cell_type": "code",
   "execution_count": 29,
   "id": "0aab3c46-8946-4e7b-b1ac-64d4ab546ef2",
   "metadata": {},
   "outputs": [],
   "source": [
    "def load_data(data_name, col_keeps, y_lims, z_lims):\n",
    "    \"\"\" Loads the data from an .xlsx file.\n",
    "    \n",
    "    Inputs:\n",
    "    data_name -- str, nane of the .xlsx file to read.\n",
    "    col_keeps -- dict{str:str}, dictionnary containing the names of the columns\n",
    "        to keep.\n",
    "    y_lims -- list[int], limits for the y direction to convert back to mm,\n",
    "            first element is the minimum and second is the maximum.\n",
    "    z_lims -- list[int], limits for the z direction to convert back to mm,\n",
    "        first element is the minimum and second is the maximum.\n",
    "    \n",
    "    Outputs:\n",
    "    df -- DataFrame, data frame containing the desired data.\n",
    "    \n",
    "    \"\"\"\n",
    "    df = pd.read_excel(data_name)\n",
    "    # remove unnecessary columns\n",
    "    for col in df.columns:\n",
    "        if col in col_keeps:\n",
    "            df.rename(columns = {col:col_keeps[col]}, inplace = True)\n",
    "        else:\n",
    "            df.drop(col, axis=1, inplace=True)\n",
    "    df['y'] = get_position(df['%y'], y_lims[0], y_lims[1])\n",
    "    df['z'] = get_position(df['%x'], z_lims[0], z_lims[1]) # x becomes z\n",
    "    df['-%y'] = 100 - df['%y']\n",
    "    # change the area to mm\n",
    "    return df"
   ]
  },
  {
   "cell_type": "markdown",
   "id": "15154ae6-8b86-40f2-81b8-fec9d8282031",
   "metadata": {},
   "source": [
    "#### _convert\\_2D\\_data_\n",
    "This function will convert the data from a DataFrame into numpy arrays that will be used for mapping."
   ]
  },
  {
   "cell_type": "code",
   "execution_count": 30,
   "id": "71f9e7bc-53f7-45f9-9bae-93faf6d05e22",
   "metadata": {},
   "outputs": [],
   "source": [
    "def convert_2D_data(df):\n",
    "    data_array = np.array(df[['y','z','area']])\n",
    "\n",
    "    # Convert input data to numpy coordinate array and intensity array.\n",
    "    data_2_dim = np.array(data_array[:, (0,1)])\n",
    "    data_intensity = data_array[:,2]\n",
    "    \n",
    "    return data_2_dim, data_intensity"
   ]
  },
  {
   "cell_type": "markdown",
   "id": "249cc059-b0e1-4be2-9bcc-bea65adb2947",
   "metadata": {},
   "source": [
    "#### _map\\_to\\_3D_\n",
    "This function will map the 2D data to the 3D mesh."
   ]
  },
  {
   "cell_type": "code",
   "execution_count": 31,
   "id": "c96cc977-349b-443f-9f80-c7dc9e68e24e",
   "metadata": {},
   "outputs": [],
   "source": [
    "def map_to_3D(input_pts, input_mesh):\n",
    "    \"\"\" Maps an Nx2 numpy array of points in the y-z plane to have an\n",
    "    x coordinate based on the nearest point in the y-z plane on the input mesh.\n",
    "    \n",
    "    Inputs:\n",
    "    input_pts -- np.array(N, 2) with y coordinates in column 0, and\n",
    "        z coordinates in column 1.\n",
    "    input_mesh -- numpy-stl mesh object with the target mesh.\n",
    "        \n",
    "    Outputs:\n",
    "    out: np.array(N, 3), numpy array with x coordinates in column 0,\n",
    "        y coordinates in column 1, and z coordinates in column 2.\n",
    "    \n",
    "    \"\"\"\n",
    "    # Create list of vertices from the vectors of each triangle in the mesh.\n",
    "    vert = np.around(np.unique(input_mesh.vectors.reshape(\n",
    "        [int(input_mesh.vectors.size/3), 3]), axis=0),2)\n",
    "    \n",
    "    # select only vertices on the ventral stomach\n",
    "    vert_ventral = vert[vert[:, 0] < 9.0, :]\n",
    "    # initial output array\n",
    "    out = np.zeros((input_pts.shape[0], 3))\n",
    "    \n",
    "    # iterate over all points in y-z plane and find the closest mesh vertex in this plane\n",
    "    for i, pt in enumerate(input_pts):      \n",
    "        min_arg = np.argmin(np.sqrt(np.sum(np.power(\n",
    "            np.abs((pt-vert_ventral[:, 1:3])),2), 1)))\n",
    "        matched_x = vert_ventral[min_arg, 0]\n",
    "        # Add some random movement so that triangles don't obscure points\n",
    "        matched_x -= 2 - np.random.rand()*1 \n",
    "        out[i, :] = [matched_x, pt[0], pt[1]]\n",
    "    return out"
   ]
  },
  {
   "cell_type": "markdown",
   "id": "b4172ad9-feb7-4b7d-89bf-fa3ddf1f932d",
   "metadata": {},
   "source": [
    "### **Loading the 2D data**\n",
    "In the 2D datasets that we are using, the distances are in percentages relative to an origin situated in the pyloric end of the stomach for the y-axis and near the oesophagus for the z-axis. We are going to convert those into millimeters instead. For this, we are going to define the limits in the z- and y-axis. \n",
    "\n",
    "Here is a 2D representation of the data we are going to map to the 3D mesh.\n",
    "![2d](img/2d_data_viz.png)"
   ]
  },
  {
   "cell_type": "code",
   "execution_count": 32,
   "id": "868f7e0a-e0bb-484c-9916-1b629673a872",
   "metadata": {},
   "outputs": [],
   "source": [
    "# Setup maximimum y and z widths based on scale in image.\n",
    "z_lims = [0, 36.7]\n",
    "y_lims = [4.6, 0]\n",
    "\n",
    "col_keeps = {'%x (distance from pylorus side)':'%x', '%y (distance from bottom)':'%y',\n",
    "             'Average IGLE Area (um²)':'area', 'Area Of Innervation':'area', \n",
    "             'Neuron Area Of Innervation (um²) -Convex Hull':'area'}"
   ]
  },
  {
   "cell_type": "markdown",
   "id": "a489af2e-2fb7-4139-9696-c16732c898cb",
   "metadata": {},
   "source": [
    "We can now load the locations of the nerves into data frames:"
   ]
  },
  {
   "cell_type": "code",
   "execution_count": 33,
   "id": "0b000479-2aaf-49c6-8e1a-8915ff7a7f6a",
   "metadata": {},
   "outputs": [],
   "source": [
    "df_igle = load_data('data/IGLE_data.xlsx', col_keeps, y_lims, z_lims)\n",
    "df_ima = load_data('data/IMA_analyzed_data.xlsx', col_keeps, y_lims, z_lims)\n",
    "df_efferent = load_data('data/Efferent_data.xlsx', col_keeps, y_lims, z_lims) "
   ]
  },
  {
   "cell_type": "markdown",
   "id": "2f6c51a2-15a2-4ded-b67b-6c3d3a43ba57",
   "metadata": {},
   "source": [
    "### **Preparing the 2D data**\n",
    "Now that we have loaded are datasets into Python, we are going to prepare to be mapped then plotted. For this, we are going to use our _convert_2D_data_ helper function. This will convert our data from the pandas DataFrame to a numpy array which will be more easy to manipulate for our objective."
   ]
  },
  {
   "cell_type": "code",
   "execution_count": 34,
   "id": "6d2a7408-73b9-4254-8c38-d1c19b756316",
   "metadata": {},
   "outputs": [],
   "source": [
    "efferent_2D, efferent_intensity = convert_2D_data(df_efferent)\n",
    "igle_2D, igle_intensity = convert_2D_data(df_igle)\n",
    "ima_2D, ima_intensity = convert_2D_data(df_ima)"
   ]
  },
  {
   "cell_type": "markdown",
   "id": "c7726675-cad7-4337-a96d-e78ac1976170",
   "metadata": {},
   "source": [
    "### **Loading the 3D mesh**\n",
    "The 2D data is all set, time to focus on the 3D mesh! Let us load the 3D stomach mesh provided in the _data_ folder for this tutorial. However, it is possible to use **SPARC** tools to generate the mesh from **FAIR** data. Give link to what tool can be used and the documentation of that tool."
   ]
  },
  {
   "cell_type": "code",
   "execution_count": 35,
   "id": "b4472c84-cbee-40a7-b2d5-939ae0d1f50a",
   "metadata": {},
   "outputs": [],
   "source": [
    "# Load the STL files and add the vectors to the plot\n",
    "stomach_mesh = msh.Mesh.from_file('data/stom_surf_mesh.stl')\n",
    "\n",
    "# with coordinate axes (imported with signs reversed)\n",
    "stomach_mesh.x -= np.min(stomach_mesh.x.flatten())\n",
    "stomach_mesh.y -= np.min(stomach_mesh.y.flatten())\n",
    "stomach_mesh.z -= np.min(stomach_mesh.z.flatten())"
   ]
  },
  {
   "cell_type": "markdown",
   "id": "4894c8bb-1768-48e3-bdfd-5a629c4be5f6",
   "metadata": {},
   "source": [
    "### **Mapping data**\n",
    "We are now ready to map the 2D points to the 3D mesh using the helper function we have written earlier. Explain what other tools are available for mapping."
   ]
  },
  {
   "cell_type": "code",
   "execution_count": 36,
   "id": "db1e8106-85c9-4376-883b-abff8ed01f53",
   "metadata": {},
   "outputs": [],
   "source": [
    "# Project to 3D stomach surface.\n",
    "efferent_3D = map_to_3D(efferent_2D, stomach_mesh)\n",
    "igle_3D = map_to_3D(igle_2D, stomach_mesh)\n",
    "ima_3D = map_to_3D(ima_2D, stomach_mesh)"
   ]
  },
  {
   "cell_type": "markdown",
   "id": "e0aa87c1-6cfe-42d0-a880-ddce65a50821",
   "metadata": {},
   "source": [
    "### **Visualising data**\n",
    "The data has now been mapped to the 3D mesh. All that is left to do is visualise the mesh and the nerves! We are going to be using the matplotlib package to visualise the data. We define a plotting function to be able to create an interactive interface. We create three checkboxes, one for each dataset, in order to visulasie the points from each data set individually. The efferents are plotted in green, the IMAs are plotted in red, and the igle are plotted in blue. You can select the data by ticking or unticking the boxes. \n",
    "\n",
    "#### ⚠️  **SPARC Guru tip**: \n",
    "Did you know that there are some **SPARC** tools that you can use to visualise the data? They have their own GUI that you can use. For this tutorial, we decided to keep everything in one place but they also have compatible Python APIs that will allow you to integrate the tool directly into this Notebook! Take a look [here](link to tool) to read the documentation. "
   ]
  },
  {
   "cell_type": "code",
   "execution_count": 37,
   "id": "387d707a-0a7d-4d44-8163-0ab5b936de48",
   "metadata": {},
   "outputs": [
    {
     "data": {
      "application/vnd.jupyter.widget-view+json": {
       "model_id": "84e5ee04ba1b4847a5a967636ef4a28e",
       "version_major": 2,
       "version_minor": 0
      },
      "text/plain": [
       "interactive(children=(Checkbox(value=True, description='efferent'), Checkbox(value=False, description='IGLE'),…"
      ]
     },
     "metadata": {},
     "output_type": "display_data"
    },
    {
     "data": {
      "text/plain": [
       "<function __main__.plotting_fct(mesh, efferent_3D, igle_3D, ima_3D, efferent_intensity, igle_intensity, ima_intensity, efferent, igle, ima)>"
      ]
     },
     "execution_count": 37,
     "metadata": {},
     "output_type": "execute_result"
    }
   ],
   "source": [
    "# Enable interactivity in jupyterlab.\n",
    "%matplotlib widget \n",
    "\n",
    "def plotting_fct(mesh, efferent_3D, igle_3D, ima_3D, efferent_intensity, \n",
    "                 igle_intensity, ima_intensity, efferent, igle, ima):\n",
    "    # Start a matplotlib 3d interactive figure.\n",
    "    fig = plt.figure()\n",
    "    fig.suptitle('Projection visualisation', fontsize=16)\n",
    "    ax = fig.add_subplot(projection='3d')\n",
    "\n",
    "    # Add mesh as triangle polygons to 3d matplotlib view.\n",
    "    faces = mplot3d.art3d.Poly3DCollection(mesh.vectors, color=(0, 0.4470, 0.7410))\n",
    "    faces.set_edgecolor((0, 0.4470, 0.7410, 0.1))\n",
    "    faces.set_alpha(0.1)\n",
    "    ax.add_collection3d(faces)\n",
    "\n",
    "    # Plot the projected neurons coloured by their area of innervation.\n",
    "    if efferent:\n",
    "        ax.scatter(efferent_3D[:,0], efferent_3D[:,1], efferent_3D[:,2], \n",
    "                   c=efferent_intensity, cmap='Greens')\n",
    "        \n",
    "    if ima:\n",
    "        ax.scatter(ima_3D[:,0], ima_3D[:,1], ima_3D[:,2], \n",
    "                   c=ima_intensity, cmap='Reds')\n",
    "        \n",
    "    if igle:\n",
    "        ax.scatter(igle_3D[:,0], igle_3D[:,1], igle_3D[:,2], \n",
    "                    c=igle_intensity, cmap='Blues')        \n",
    "\n",
    "\n",
    "    # Scale view to the mesh size and turn off axis chrome.\n",
    "    ax.set_xlim(0,40)\n",
    "    ax.set_ylim(-10,30)\n",
    "    ax.set_zlim(-10,30)\n",
    "    ax.axis('off')\n",
    "\n",
    "    # Show ventral surface and plot projected neurons.\n",
    "    ax.view_init(10, -57, 'y')\n",
    "    plt.show()\n",
    "\n",
    "efferent=Checkbox(value=True, description=\"efferent\")\n",
    "igle=Checkbox(value=False, description=\"IGLE\")\n",
    "ima=Checkbox(value=False, description=\"IMA\")\n",
    "    \n",
    "interact(plotting_fct, mesh=fixed(stomach_mesh), efferent_3D=fixed(efferent_3D), \n",
    "            igle_3D=fixed(igle_3D), ima_3D=fixed(ima_3D),\n",
    "            efferent_intensity=fixed(efferent_intensity), \n",
    "            igle_intensity=fixed(igle_intensity), ima_intensity=fixed(ima_intensity), \n",
    "            efferent=efferent, igle=igle, ima=ima)    \n"
   ]
  },
  {
   "cell_type": "markdown",
   "id": "1c3e7ecb-389c-42ff-995e-ef700b6501a4",
   "metadata": {},
   "source": [
    "### **Congratulations**\n",
    "You have successfully completed your first Quilted Tutorial and are now on your way to becoming a **SPARC** Guru! \n",
    "\n",
    "We invite you to reuse this tutorial and explore the possibilities of using **SPARC** tools when possible. Try different things, such as adding ***your own code*** to generate a new stomach mesh with INSERT TOOL NAME. "
   ]
  }
 ],
 "metadata": {
  "kernelspec": {
   "display_name": "Python 3 (ipykernel)",
   "language": "python",
   "name": "python3"
  },
  "language_info": {
   "codemirror_mode": {
    "name": "ipython",
    "version": 3
   },
   "file_extension": ".py",
   "mimetype": "text/x-python",
   "name": "python",
   "nbconvert_exporter": "python",
   "pygments_lexer": "ipython3",
   "version": "3.10.4"
  }
 },
 "nbformat": 4,
 "nbformat_minor": 5
}
