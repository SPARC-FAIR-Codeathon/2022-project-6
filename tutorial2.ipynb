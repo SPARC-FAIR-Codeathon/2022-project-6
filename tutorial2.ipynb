{
 "cells": [
  {
   "cell_type": "code",
   "execution_count": 1,
   "id": "7806e051-40ec-4399-9be4-1822ea2332ac",
   "metadata": {},
   "outputs": [],
   "source": [
    "# code to plot data in 2D and do some calculations"
   ]
  },
  {
   "cell_type": "code",
   "execution_count": 2,
   "id": "9ca4cd97-1790-4fd9-856f-4e7763cb2a92",
   "metadata": {},
   "outputs": [],
   "source": [
    "import pandas as pd\n",
    "\n",
    "import matplotlib.pyplot as plt\n",
    "import numpy as np\n",
    "from stl import mesh as msh\n",
    "from mpl_toolkits import mplot3d\n",
    "\n",
    "import scip"
   ]
  },
  {
   "cell_type": "code",
   "execution_count": 5,
   "id": "07d0a0e2-f40b-461e-931f-61b375ba9b00",
   "metadata": {},
   "outputs": [],
   "source": [
    "# define helper functions\n",
    "def get_position(p, N1, N2):\n",
    "    return p / (max_p - min_p) * (N2 - N1) + N1\n",
    "\n",
    "def load_data(data_name):\n",
    "    df = pd.read_excel(data_name)\n",
    "    # remove unnecessary columns\n",
    "    for col in df.columns:\n",
    "        if col in col_keeps:\n",
    "            df.rename(columns = {col:col_keeps[col]}, inplace = True)\n",
    "        else:\n",
    "            df.drop(col, axis=1, inplace=True)\n",
    "    df['y'] = get_position(df['%y'], min_y, max_y)\n",
    "    df['z'] = get_position(df['%x'], min_z, max_z)\n",
    "    df['-%y'] = 100 - df['%y']\n",
    "    return df"
   ]
  },
  {
   "cell_type": "code",
   "execution_count": 6,
   "id": "dcd89080-c50a-42cc-a472-a252d6714f63",
   "metadata": {},
   "outputs": [],
   "source": [
    "col_keeps = {'%x (distance from pylorus side)':'%x', '%y (distance from bottom)':'%y'}\n",
    "\n",
    "## setup maximimum x and y width\n",
    "min_z, max_z = 0, 36.7\n",
    "min_y, max_y = 24.6, 0\n",
    "min_p, max_p = 0, 100"
   ]
  },
  {
   "cell_type": "code",
   "execution_count": 7,
   "id": "fb82954e-8c5a-4ed4-b49f-ada6b919836a",
   "metadata": {},
   "outputs": [],
   "source": [
    "df_igle = load_data('res/IGLE_data.xlsx')\n",
    "df_ima = load_data('res/IMA_analyzed_data.xlsx')\n",
    "df_efferent = load_data('res/Efferent_data.xlsx')"
   ]
  },
  {
   "cell_type": "code",
   "execution_count": 8,
   "id": "247e7b70-8876-4b34-87c9-a48f2f21878b",
   "metadata": {},
   "outputs": [],
   "source": [
    "data_array = df_igle"
   ]
  },
  {
   "cell_type": "code",
   "execution_count": null,
   "id": "3229e87d-ce8c-439f-99cb-5ff19a6c633a",
   "metadata": {},
   "outputs": [],
   "source": [
    "scipy"
   ]
  },
  {
   "cell_type": "code",
   "execution_count": null,
   "id": "d018adb8-60c1-4d56-9c28-5a069192fa8d",
   "metadata": {},
   "outputs": [],
   "source": [
    "# this enables interactivity in jupyterlab and needs to be in the same cell as the plotting calls\n",
    "%matplotlib widget \n",
    "\n",
    "# start a matplotlib 3d interactive figure\n",
    "fig = plt.figure(figsize=(10,6))\n",
    "ax = fig.add_subplot(projection='3d')\n",
    "\n",
    "# add mesh as triangle polygons to 3d matplotlib view\n",
    "faces = mplot3d.art3d.Poly3DCollection(your_mesh.vectors, color=(0, 0.4470, 0.7410))\n",
    "faces.set_edgecolor((0, 0.4470, 0.7410, 0.1))\n",
    "faces.set_alpha(0.1)\n",
    "ax.add_collection3d(faces)\n",
    "\n",
    "# plot the projected neurons coloured by their area of innervation\n",
    "d = ax.scatter(data_threeDim[:,0], data_threeDim[:,1], data_threeDim[:,2], c=data_intensity, cmap='Greens')\n",
    "\n",
    "# Scale view to the mesh size and turn off axis chrome\n",
    "ax.set_xlim(0,40)\n",
    "ax.set_ylim(-10,30)\n",
    "ax.set_zlim(-10,30)\n",
    "\n",
    "# ax.axis('off')\n",
    "# ax.set_xlabel('x (mm)')\n",
    "# ax.set_ylabel('y (mm)')\n",
    "# ax.set_zlabel('z (mm)')\n",
    "\n",
    "# cbar = fig.colorbar(d, pad=0.2, label=r\"Area of innervation (um$^{2}$)\",format='%.0e')\n",
    "\n",
    "# show ventral surface and plot projected neurons\n",
    "ax.view_init(-10, -57, 'y')\n",
    "plt.show()"
   ]
  }
 ],
 "metadata": {
  "kernelspec": {
   "display_name": "Python 3 (ipykernel)",
   "language": "python",
   "name": "python3"
  },
  "language_info": {
   "codemirror_mode": {
    "name": "ipython",
    "version": 3
   },
   "file_extension": ".py",
   "mimetype": "text/x-python",
   "name": "python",
   "nbconvert_exporter": "python",
   "pygments_lexer": "ipython3",
   "version": "3.8.10"
  }
 },
 "nbformat": 4,
 "nbformat_minor": 5
}
